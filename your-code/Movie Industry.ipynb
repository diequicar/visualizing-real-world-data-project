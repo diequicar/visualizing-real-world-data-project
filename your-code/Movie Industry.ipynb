{
 "cells": [
  {
   "cell_type": "markdown",
   "metadata": {},
   "source": [
    "# <font color=brown><center>__Movie Industry.__</center></font>"
   ]
  },
  {
   "cell_type": "markdown",
   "metadata": {},
   "source": [
    "<img src='https://redtea.com/wp-content/uploads/2017/08/52004697_l_900x523.jpg' width=\"800\" height=\"400\" align=\"center\"/>\n"
   ]
  },
  {
   "cell_type": "markdown",
   "metadata": {},
   "source": [
    "\n",
    "#### <div style='text-align: justify'> The bases for this project are the current changes of the technology and of course the new ways of doing some things that in the past were just unimaginables. In this case I am specifically talking about cinema, the new technologies are moving the cinema to a new era of special effects and my hypothesis is that this is affecting principally the budget of the lastest movies and on another hand this is affecting the gross. </div>\n",
    "\n",
    "\n",
    "#### <div style='text-align: justify'> After analysing the hypothesis, the main idea is to countinue analsying other interesting data. This would be explained on every step of this lab. </div>\n",
    "\n",
    "<br>\n",
    "<div style='text-align: right'>Author: Diego Quiroz Carmona </div>\n",
    "<div style='text-align: right'>Database: https://www.kaggle.com/danielgrijalvas/movies </div>"
   ]
  },
  {
   "cell_type": "markdown",
   "metadata": {},
   "source": [
    "__First i imported all the libraries i would use.__"
   ]
  },
  {
   "cell_type": "code",
   "execution_count": 1,
   "metadata": {},
   "outputs": [],
   "source": [
    "import numpy as np\n",
    "import pandas as pd\n",
    "import matplotlib.pyplot as plt\n",
    "import seaborn as sns\n",
    "from selenium import webdriver\n",
    "from selenium.webdriver.common.keys import Keys\n",
    "%matplotlib inline\n",
    "import plotly.plotly as py\n",
    "import cufflinks as cf"
   ]
  },
  {
   "cell_type": "code",
   "execution_count": 2,
   "metadata": {},
   "outputs": [
    {
     "data": {
      "text/html": [
       "<script>requirejs.config({paths: { 'plotly': ['https://cdn.plot.ly/plotly-latest.min']},});if(!window.Plotly) {{require(['plotly'],function(plotly) {window.Plotly=plotly;});}}</script>"
      ],
      "text/vnd.plotly.v1+html": [
       "<script>requirejs.config({paths: { 'plotly': ['https://cdn.plot.ly/plotly-latest.min']},});if(!window.Plotly) {{require(['plotly'],function(plotly) {window.Plotly=plotly;});}}</script>"
      ]
     },
     "metadata": {},
     "output_type": "display_data"
    }
   ],
   "source": [
    "cf.go_offline()"
   ]
  },
  {
   "cell_type": "markdown",
   "metadata": {},
   "source": [
    "__After downloading the database, i read it on a Dataframe with pandas.__"
   ]
  },
  {
   "cell_type": "code",
   "execution_count": 3,
   "metadata": {},
   "outputs": [
    {
     "data": {
      "text/html": [
       "<div>\n",
       "<style scoped>\n",
       "    .dataframe tbody tr th:only-of-type {\n",
       "        vertical-align: middle;\n",
       "    }\n",
       "\n",
       "    .dataframe tbody tr th {\n",
       "        vertical-align: top;\n",
       "    }\n",
       "\n",
       "    .dataframe thead th {\n",
       "        text-align: right;\n",
       "    }\n",
       "</style>\n",
       "<table border=\"1\" class=\"dataframe\">\n",
       "  <thead>\n",
       "    <tr style=\"text-align: right;\">\n",
       "      <th></th>\n",
       "      <th>budget</th>\n",
       "      <th>company</th>\n",
       "      <th>country</th>\n",
       "      <th>director</th>\n",
       "      <th>genre</th>\n",
       "      <th>gross</th>\n",
       "      <th>name</th>\n",
       "      <th>rating</th>\n",
       "      <th>released</th>\n",
       "      <th>runtime</th>\n",
       "      <th>score</th>\n",
       "      <th>star</th>\n",
       "      <th>votes</th>\n",
       "      <th>writer</th>\n",
       "      <th>year</th>\n",
       "    </tr>\n",
       "  </thead>\n",
       "  <tbody>\n",
       "    <tr>\n",
       "      <th>0</th>\n",
       "      <td>8000000.0</td>\n",
       "      <td>Columbia Pictures Corporation</td>\n",
       "      <td>USA</td>\n",
       "      <td>Rob Reiner</td>\n",
       "      <td>Adventure</td>\n",
       "      <td>52287414.0</td>\n",
       "      <td>Stand by Me</td>\n",
       "      <td>R</td>\n",
       "      <td>1986-08-22</td>\n",
       "      <td>89</td>\n",
       "      <td>8.1</td>\n",
       "      <td>Wil Wheaton</td>\n",
       "      <td>299174</td>\n",
       "      <td>Stephen King</td>\n",
       "      <td>1986</td>\n",
       "    </tr>\n",
       "    <tr>\n",
       "      <th>1</th>\n",
       "      <td>6000000.0</td>\n",
       "      <td>Paramount Pictures</td>\n",
       "      <td>USA</td>\n",
       "      <td>John Hughes</td>\n",
       "      <td>Comedy</td>\n",
       "      <td>70136369.0</td>\n",
       "      <td>Ferris Bueller's Day Off</td>\n",
       "      <td>PG-13</td>\n",
       "      <td>1986-06-11</td>\n",
       "      <td>103</td>\n",
       "      <td>7.8</td>\n",
       "      <td>Matthew Broderick</td>\n",
       "      <td>264740</td>\n",
       "      <td>John Hughes</td>\n",
       "      <td>1986</td>\n",
       "    </tr>\n",
       "    <tr>\n",
       "      <th>2</th>\n",
       "      <td>15000000.0</td>\n",
       "      <td>Paramount Pictures</td>\n",
       "      <td>USA</td>\n",
       "      <td>Tony Scott</td>\n",
       "      <td>Action</td>\n",
       "      <td>179800601.0</td>\n",
       "      <td>Top Gun</td>\n",
       "      <td>PG</td>\n",
       "      <td>1986-05-16</td>\n",
       "      <td>110</td>\n",
       "      <td>6.9</td>\n",
       "      <td>Tom Cruise</td>\n",
       "      <td>236909</td>\n",
       "      <td>Jim Cash</td>\n",
       "      <td>1986</td>\n",
       "    </tr>\n",
       "    <tr>\n",
       "      <th>3</th>\n",
       "      <td>18500000.0</td>\n",
       "      <td>Twentieth Century Fox Film Corporation</td>\n",
       "      <td>USA</td>\n",
       "      <td>James Cameron</td>\n",
       "      <td>Action</td>\n",
       "      <td>85160248.0</td>\n",
       "      <td>Aliens</td>\n",
       "      <td>R</td>\n",
       "      <td>1986-07-18</td>\n",
       "      <td>137</td>\n",
       "      <td>8.4</td>\n",
       "      <td>Sigourney Weaver</td>\n",
       "      <td>540152</td>\n",
       "      <td>James Cameron</td>\n",
       "      <td>1986</td>\n",
       "    </tr>\n",
       "    <tr>\n",
       "      <th>4</th>\n",
       "      <td>9000000.0</td>\n",
       "      <td>Walt Disney Pictures</td>\n",
       "      <td>USA</td>\n",
       "      <td>Randal Kleiser</td>\n",
       "      <td>Adventure</td>\n",
       "      <td>18564613.0</td>\n",
       "      <td>Flight of the Navigator</td>\n",
       "      <td>PG</td>\n",
       "      <td>1986-08-01</td>\n",
       "      <td>90</td>\n",
       "      <td>6.9</td>\n",
       "      <td>Joey Cramer</td>\n",
       "      <td>36636</td>\n",
       "      <td>Mark H. Baker</td>\n",
       "      <td>1986</td>\n",
       "    </tr>\n",
       "  </tbody>\n",
       "</table>\n",
       "</div>"
      ],
      "text/plain": [
       "       budget                                 company country        director  \\\n",
       "0   8000000.0           Columbia Pictures Corporation     USA      Rob Reiner   \n",
       "1   6000000.0                      Paramount Pictures     USA     John Hughes   \n",
       "2  15000000.0                      Paramount Pictures     USA      Tony Scott   \n",
       "3  18500000.0  Twentieth Century Fox Film Corporation     USA   James Cameron   \n",
       "4   9000000.0                    Walt Disney Pictures     USA  Randal Kleiser   \n",
       "\n",
       "       genre        gross                      name rating    released  \\\n",
       "0  Adventure   52287414.0               Stand by Me      R  1986-08-22   \n",
       "1     Comedy   70136369.0  Ferris Bueller's Day Off  PG-13  1986-06-11   \n",
       "2     Action  179800601.0                   Top Gun     PG  1986-05-16   \n",
       "3     Action   85160248.0                    Aliens      R  1986-07-18   \n",
       "4  Adventure   18564613.0   Flight of the Navigator     PG  1986-08-01   \n",
       "\n",
       "   runtime  score               star   votes         writer  year  \n",
       "0       89    8.1        Wil Wheaton  299174   Stephen King  1986  \n",
       "1      103    7.8  Matthew Broderick  264740    John Hughes  1986  \n",
       "2      110    6.9         Tom Cruise  236909       Jim Cash  1986  \n",
       "3      137    8.4   Sigourney Weaver  540152  James Cameron  1986  \n",
       "4       90    6.9        Joey Cramer   36636  Mark H. Baker  1986  "
      ]
     },
     "execution_count": 3,
     "metadata": {},
     "output_type": "execute_result"
    }
   ],
   "source": [
    "movies = pd.read_csv('../movies.csv')\n",
    "movies.head()"
   ]
  },
  {
   "cell_type": "markdown",
   "metadata": {},
   "source": [
    "__Lets check if the dataframe has nulls and also the type of each column.__"
   ]
  },
  {
   "cell_type": "code",
   "execution_count": 4,
   "metadata": {},
   "outputs": [
    {
     "name": "stdout",
     "output_type": "stream",
     "text": [
      "<class 'pandas.core.frame.DataFrame'>\n",
      "RangeIndex: 6820 entries, 0 to 6819\n",
      "Data columns (total 15 columns):\n",
      "budget      6820 non-null float64\n",
      "company     6820 non-null object\n",
      "country     6820 non-null object\n",
      "director    6820 non-null object\n",
      "genre       6820 non-null object\n",
      "gross       6820 non-null float64\n",
      "name        6820 non-null object\n",
      "rating      6820 non-null object\n",
      "released    6820 non-null object\n",
      "runtime     6820 non-null int64\n",
      "score       6820 non-null float64\n",
      "star        6820 non-null object\n",
      "votes       6820 non-null int64\n",
      "writer      6820 non-null object\n",
      "year        6820 non-null int64\n",
      "dtypes: float64(3), int64(3), object(9)\n",
      "memory usage: 799.3+ KB\n"
     ]
    }
   ],
   "source": [
    "movies.info()"
   ]
  },
  {
   "cell_type": "markdown",
   "metadata": {},
   "source": [
    "__Now lets check if there are 0 on some columns.__"
   ]
  },
  {
   "cell_type": "code",
   "execution_count": 5,
   "metadata": {},
   "outputs": [
    {
     "name": "stdout",
     "output_type": "stream",
     "text": [
      "<class 'pandas.core.frame.DataFrame'>\n",
      "RangeIndex: 6820 entries, 0 to 6819\n",
      "Data columns (total 15 columns):\n",
      "budget      2182 non-null float64\n",
      "company     0 non-null object\n",
      "country     0 non-null object\n",
      "director    0 non-null object\n",
      "genre       0 non-null object\n",
      "gross       0 non-null float64\n",
      "name        0 non-null object\n",
      "rating      0 non-null object\n",
      "released    0 non-null object\n",
      "runtime     0 non-null float64\n",
      "score       0 non-null float64\n",
      "star        0 non-null object\n",
      "votes       0 non-null float64\n",
      "writer      0 non-null object\n",
      "year        0 non-null float64\n",
      "dtypes: float64(6), object(9)\n",
      "memory usage: 799.3+ KB\n"
     ]
    }
   ],
   "source": [
    "movies[movies == 0].info()"
   ]
  },
  {
   "cell_type": "markdown",
   "metadata": {},
   "source": [
    "__As we can see there are 2182 cells with a zero on them, so i would try to cover them with the help of google, scraping the data from the internet.__"
   ]
  },
  {
   "cell_type": "code",
   "execution_count": 6,
   "metadata": {},
   "outputs": [],
   "source": [
    "#MOVIES WITHOUT BUDGET = mwb\n",
    "mwb = list(movies.name[movies.budget == 0])"
   ]
  },
  {
   "cell_type": "code",
   "execution_count": 7,
   "metadata": {},
   "outputs": [],
   "source": [
    "# navegador = webdriver.Chrome()\n",
    "# navegador.get('https://www.google.com/')\n",
    "# barra_de_busqueda = navegador.find_element_by_xpath('//*[@id=\"tsf\"]/div[2]/div/div[1]/div/div[1]/input')"
   ]
  },
  {
   "cell_type": "code",
   "execution_count": 29,
   "metadata": {},
   "outputs": [],
   "source": [
    "# budgets = []\n",
    "# for i in mwb:\n",
    "#     barra_de_busqueda.send_keys(i + ' budget')\n",
    "#     barra_de_busqueda.send_keys(Keys.ENTER)\n",
    "#     try:\n",
    "#         budget = navegador.find_element_by_xpath('//*[@id=\"rso\"]/div[1]/div/div[1]/div/div[1]/div[2]/div[2]/div/div[1]/div/div/div[1]')\n",
    "#         budgets.append(budget.text)\n",
    "#         navegador.find_element_by_xpath('//*[@id=\"logo\"]/img').click()\n",
    "#         barra_de_busqueda = navegador.find_element_by_xpath('//*[@id=\"tsf\"]/div[2]/div/div[1]/div/div[1]/input')\n",
    "#     except:\n",
    "#         budgets.append('Unknown')\n",
    "#         navegador.find_element_by_xpath('//*[@id=\"logo\"]/img').click()\n",
    "#         barra_de_busqueda = navegador.find_element_by_xpath('//*[@id=\"tsf\"]/div[2]/div/div[1]/div/div[1]/input')       "
   ]
  },
  {
   "cell_type": "markdown",
   "metadata": {},
   "source": [
    "__After trying different ways to solve this problem without success, I decided to continue with the same data that I had at first, I could only scrap some budgets and only the half of them are real numbers, so i dont think is worth to add them to the dataframe.__"
   ]
  },
  {
   "cell_type": "markdown",
   "metadata": {},
   "source": [
    "__I will add a column named 'Net' that represents the gross minus the budget, where the budget is unkown I will add a 0.__"
   ]
  },
  {
   "cell_type": "code",
   "execution_count": 12,
   "metadata": {},
   "outputs": [],
   "source": [
    "movies['net'] = np.where(movies.budget != 0, movies.gross - movies.budget,0)"
   ]
  },
  {
   "cell_type": "markdown",
   "metadata": {},
   "source": [
    "__In order to check the hypothesis, lets creat a timelapse graph of the budget.__"
   ]
  },
  {
   "cell_type": "code",
   "execution_count": 13,
   "metadata": {
    "scrolled": false
   },
   "outputs": [
    {
     "data": {
      "application/vnd.plotly.v1+json": {
       "data": [
        {
         "line": {
          "color": "rgba(219, 64, 82, 1.0)",
          "dash": "solid",
          "shape": "linear",
          "width": 3
         },
         "mode": "lines",
         "name": "budget",
         "text": "",
         "type": "scatter",
         "uid": "25bd096e-b1c9-11e9-a426-e09467129110",
         "x": [
          1986,
          1987,
          1988,
          1989,
          1990,
          1991,
          1992,
          1993,
          1994,
          1995,
          1996,
          1997,
          1998,
          1999,
          2000,
          2001,
          2002,
          2003,
          2004,
          2005,
          2006,
          2007,
          2008,
          2009,
          2010,
          2011,
          2012,
          2013,
          2014,
          2015,
          2016
         ],
         "y": [
          5157669.890909091,
          5333538.812785388,
          7242909.090909091,
          6832013.574660634,
          8074622.7272727275,
          9735095.454545455,
          10792171.677272728,
          11304227.268181818,
          14187613.636363637,
          15652840.913636364,
          19092862.37727273,
          23640659.09090909,
          23465300,
          31240690.90909091,
          29301645.454545453,
          29830000,
          29678086.20909091,
          29652772.727272727,
          32417759.09090909,
          32259518.181818184,
          31990454.545454547,
          33009363.636363637,
          34739545.45454545,
          34400000,
          35656886.36363637,
          36461000,
          35375659.45454545,
          37265528.03181818,
          34214090.90909091,
          33790573.4,
          40213090.90909091
         ]
        }
       ],
       "layout": {
        "legend": {
         "bgcolor": "#F5F6F9",
         "font": {
          "color": "#4D5663"
         }
        },
        "paper_bgcolor": "#F5F6F9",
        "plot_bgcolor": "#F5F6F9",
        "title": "Mean budget per year",
        "titlefont": {
         "color": "#4D5663"
        },
        "xaxis": {
         "gridcolor": "#E1E5ED",
         "showgrid": true,
         "tickfont": {
          "color": "#4D5663"
         },
         "title": "",
         "titlefont": {
          "color": "#4D5663"
         },
         "zerolinecolor": "#E1E5ED"
        },
        "yaxis": {
         "gridcolor": "#E1E5ED",
         "showgrid": true,
         "tickfont": {
          "color": "#4D5663"
         },
         "title": "",
         "titlefont": {
          "color": "#4D5663"
         },
         "zerolinecolor": "#E1E5ED"
        }
       }
      },
      "text/html": [
       "<div id=\"2db2ec9f-1dfb-4c02-9e0f-cd1b9605a5e1\" style=\"height: 525px; width: 100%;\" class=\"plotly-graph-div\"></div><script type=\"text/javascript\">require([\"plotly\"], function(Plotly) { window.PLOTLYENV=window.PLOTLYENV || {};window.PLOTLYENV.BASE_URL=\"https://plot.ly\";Plotly.newPlot(\"2db2ec9f-1dfb-4c02-9e0f-cd1b9605a5e1\", [{\"line\": {\"color\": \"rgba(219, 64, 82, 1.0)\", \"dash\": \"solid\", \"shape\": \"linear\", \"width\": 3}, \"mode\": \"lines\", \"name\": \"budget\", \"text\": \"\", \"x\": [1986.0, 1987.0, 1988.0, 1989.0, 1990.0, 1991.0, 1992.0, 1993.0, 1994.0, 1995.0, 1996.0, 1997.0, 1998.0, 1999.0, 2000.0, 2001.0, 2002.0, 2003.0, 2004.0, 2005.0, 2006.0, 2007.0, 2008.0, 2009.0, 2010.0, 2011.0, 2012.0, 2013.0, 2014.0, 2015.0, 2016.0], \"y\": [5157669.890909091, 5333538.812785388, 7242909.090909091, 6832013.574660634, 8074622.7272727275, 9735095.454545455, 10792171.677272728, 11304227.268181818, 14187613.636363637, 15652840.913636364, 19092862.37727273, 23640659.09090909, 23465300.0, 31240690.90909091, 29301645.454545453, 29830000.0, 29678086.20909091, 29652772.727272727, 32417759.09090909, 32259518.181818184, 31990454.545454547, 33009363.636363637, 34739545.45454545, 34400000.0, 35656886.36363637, 36461000.0, 35375659.45454545, 37265528.03181818, 34214090.90909091, 33790573.4, 40213090.90909091], \"type\": \"scatter\", \"uid\": \"2611dee8-b1c9-11e9-9ea3-e09467129110\"}], {\"legend\": {\"bgcolor\": \"#F5F6F9\", \"font\": {\"color\": \"#4D5663\"}}, \"paper_bgcolor\": \"#F5F6F9\", \"plot_bgcolor\": \"#F5F6F9\", \"title\": \"Mean budget per year\", \"titlefont\": {\"color\": \"#4D5663\"}, \"xaxis\": {\"gridcolor\": \"#E1E5ED\", \"showgrid\": true, \"tickfont\": {\"color\": \"#4D5663\"}, \"title\": \"\", \"titlefont\": {\"color\": \"#4D5663\"}, \"zerolinecolor\": \"#E1E5ED\"}, \"yaxis\": {\"gridcolor\": \"#E1E5ED\", \"showgrid\": true, \"tickfont\": {\"color\": \"#4D5663\"}, \"title\": \"\", \"titlefont\": {\"color\": \"#4D5663\"}, \"zerolinecolor\": \"#E1E5ED\"}}, {\"showLink\": true, \"linkText\": \"Export to plot.ly\"})});</script>"
      ],
      "text/vnd.plotly.v1+html": [
       "<div id=\"2db2ec9f-1dfb-4c02-9e0f-cd1b9605a5e1\" style=\"height: 525px; width: 100%;\" class=\"plotly-graph-div\"></div><script type=\"text/javascript\">require([\"plotly\"], function(Plotly) { window.PLOTLYENV=window.PLOTLYENV || {};window.PLOTLYENV.BASE_URL=\"https://plot.ly\";Plotly.newPlot(\"2db2ec9f-1dfb-4c02-9e0f-cd1b9605a5e1\", [{\"line\": {\"color\": \"rgba(219, 64, 82, 1.0)\", \"dash\": \"solid\", \"shape\": \"linear\", \"width\": 3}, \"mode\": \"lines\", \"name\": \"budget\", \"text\": \"\", \"x\": [1986.0, 1987.0, 1988.0, 1989.0, 1990.0, 1991.0, 1992.0, 1993.0, 1994.0, 1995.0, 1996.0, 1997.0, 1998.0, 1999.0, 2000.0, 2001.0, 2002.0, 2003.0, 2004.0, 2005.0, 2006.0, 2007.0, 2008.0, 2009.0, 2010.0, 2011.0, 2012.0, 2013.0, 2014.0, 2015.0, 2016.0], \"y\": [5157669.890909091, 5333538.812785388, 7242909.090909091, 6832013.574660634, 8074622.7272727275, 9735095.454545455, 10792171.677272728, 11304227.268181818, 14187613.636363637, 15652840.913636364, 19092862.37727273, 23640659.09090909, 23465300.0, 31240690.90909091, 29301645.454545453, 29830000.0, 29678086.20909091, 29652772.727272727, 32417759.09090909, 32259518.181818184, 31990454.545454547, 33009363.636363637, 34739545.45454545, 34400000.0, 35656886.36363637, 36461000.0, 35375659.45454545, 37265528.03181818, 34214090.90909091, 33790573.4, 40213090.90909091], \"type\": \"scatter\", \"uid\": \"2611dee8-b1c9-11e9-9ea3-e09467129110\"}], {\"legend\": {\"bgcolor\": \"#F5F6F9\", \"font\": {\"color\": \"#4D5663\"}}, \"paper_bgcolor\": \"#F5F6F9\", \"plot_bgcolor\": \"#F5F6F9\", \"title\": \"Mean budget per year\", \"titlefont\": {\"color\": \"#4D5663\"}, \"xaxis\": {\"gridcolor\": \"#E1E5ED\", \"showgrid\": true, \"tickfont\": {\"color\": \"#4D5663\"}, \"title\": \"\", \"titlefont\": {\"color\": \"#4D5663\"}, \"zerolinecolor\": \"#E1E5ED\"}, \"yaxis\": {\"gridcolor\": \"#E1E5ED\", \"showgrid\": true, \"tickfont\": {\"color\": \"#4D5663\"}, \"title\": \"\", \"titlefont\": {\"color\": \"#4D5663\"}, \"zerolinecolor\": \"#E1E5ED\"}}, {\"showLink\": true, \"linkText\": \"Export to plot.ly\"})});</script>"
      ]
     },
     "metadata": {},
     "output_type": "display_data"
    },
    {
     "data": {
      "text/html": [
       "<div>\n",
       "<style scoped>\n",
       "    .dataframe tbody tr th:only-of-type {\n",
       "        vertical-align: middle;\n",
       "    }\n",
       "\n",
       "    .dataframe tbody tr th {\n",
       "        vertical-align: top;\n",
       "    }\n",
       "\n",
       "    .dataframe thead th {\n",
       "        text-align: right;\n",
       "    }\n",
       "</style>\n",
       "<table border=\"1\" class=\"dataframe\">\n",
       "  <thead>\n",
       "    <tr style=\"text-align: right;\">\n",
       "      <th>year</th>\n",
       "      <th>1986</th>\n",
       "      <th>1987</th>\n",
       "      <th>1988</th>\n",
       "      <th>1989</th>\n",
       "      <th>1990</th>\n",
       "      <th>1991</th>\n",
       "      <th>1992</th>\n",
       "      <th>1993</th>\n",
       "      <th>1994</th>\n",
       "      <th>1995</th>\n",
       "      <th>...</th>\n",
       "      <th>2007</th>\n",
       "      <th>2008</th>\n",
       "      <th>2009</th>\n",
       "      <th>2010</th>\n",
       "      <th>2011</th>\n",
       "      <th>2012</th>\n",
       "      <th>2013</th>\n",
       "      <th>2014</th>\n",
       "      <th>2015</th>\n",
       "      <th>2016</th>\n",
       "    </tr>\n",
       "  </thead>\n",
       "  <tbody>\n",
       "    <tr>\n",
       "      <th>budget</th>\n",
       "      <td>5.157670e+06</td>\n",
       "      <td>5.333539e+06</td>\n",
       "      <td>7.242909e+06</td>\n",
       "      <td>6.832014e+06</td>\n",
       "      <td>8.074623e+06</td>\n",
       "      <td>9.735095e+06</td>\n",
       "      <td>1.079217e+07</td>\n",
       "      <td>1.130423e+07</td>\n",
       "      <td>1.418761e+07</td>\n",
       "      <td>1.565284e+07</td>\n",
       "      <td>...</td>\n",
       "      <td>3.300936e+07</td>\n",
       "      <td>3.473955e+07</td>\n",
       "      <td>34400000.0</td>\n",
       "      <td>3.565689e+07</td>\n",
       "      <td>36461000.0</td>\n",
       "      <td>3.537566e+07</td>\n",
       "      <td>3.726553e+07</td>\n",
       "      <td>3.421409e+07</td>\n",
       "      <td>33790573.4</td>\n",
       "      <td>4.021309e+07</td>\n",
       "    </tr>\n",
       "  </tbody>\n",
       "</table>\n",
       "<p>1 rows × 31 columns</p>\n",
       "</div>"
      ],
      "text/plain": [
       "year            1986          1987          1988          1989          1990  \\\n",
       "budget  5.157670e+06  5.333539e+06  7.242909e+06  6.832014e+06  8.074623e+06   \n",
       "\n",
       "year            1991          1992          1993          1994          1995  \\\n",
       "budget  9.735095e+06  1.079217e+07  1.130423e+07  1.418761e+07  1.565284e+07   \n",
       "\n",
       "year    ...          2007          2008        2009          2010        2011  \\\n",
       "budget  ...  3.300936e+07  3.473955e+07  34400000.0  3.565689e+07  36461000.0   \n",
       "\n",
       "year            2012          2013          2014        2015          2016  \n",
       "budget  3.537566e+07  3.726553e+07  3.421409e+07  33790573.4  4.021309e+07  \n",
       "\n",
       "[1 rows x 31 columns]"
      ]
     },
     "execution_count": 13,
     "metadata": {},
     "output_type": "execute_result"
    }
   ],
   "source": [
    "#budget per year\n",
    "bpy = pd.DataFrame(movies.groupby('year')['budget'].agg(np.mean))\n",
    "bpy.iplot(kind='line',color='red',width=3, title='Mean budget per year')\n",
    "bpy.T"
   ]
  },
  {
   "cell_type": "markdown",
   "metadata": {},
   "source": [
    "_On this plot we can visualize that the movies mean budget has grown almost 700% from 1986 to 2016._"
   ]
  },
  {
   "cell_type": "code",
   "execution_count": 14,
   "metadata": {
    "scrolled": false
   },
   "outputs": [
    {
     "data": {
      "application/vnd.plotly.v1+json": {
       "data": [
        {
         "line": {
          "color": "rgba(255, 153, 51, 1.0)",
          "dash": "solid",
          "shape": "linear",
          "width": 3
         },
         "mode": "lines",
         "name": "gross",
         "text": "",
         "type": "scatter",
         "uid": "2787b3dc-b1c9-11e9-b1ae-e09467129110",
         "x": [
          1986,
          1987,
          1988,
          1989,
          1990,
          1991,
          1992,
          1993,
          1994,
          1995,
          1996,
          1997,
          1998,
          1999,
          2000,
          2001,
          2002,
          2003,
          2004,
          2005,
          2006,
          2007,
          2008,
          2009,
          2010,
          2011,
          2012,
          2013,
          2014,
          2015,
          2016
         ],
         "y": [
          14280625.218181819,
          15404841.200913241,
          16198219.659090908,
          18519136.665158372,
          20176437.8,
          19707199.204545453,
          21100484.945454545,
          22508567.95,
          23050828.077272728,
          23999337.84090909,
          25552472.45,
          29347462.522727273,
          28141587.76363636,
          32909595.845454544,
          33327497.87272727,
          36071924.695454545,
          40361920.18181818,
          39160082.89545455,
          40765728.845454544,
          39166484.7,
          39699816.08181818,
          41859566.095454544,
          43182049.77727272,
          46359680.66818182,
          44512519.5,
          44074120.78636364,
          46751853.32727273,
          47195844.32727273,
          46886534.14545455,
          47514619.49090909,
          50631490.65909091
         ]
        }
       ],
       "layout": {
        "legend": {
         "bgcolor": "#F5F6F9",
         "font": {
          "color": "#4D5663"
         }
        },
        "paper_bgcolor": "#F5F6F9",
        "plot_bgcolor": "#F5F6F9",
        "title": "Mean gross per year",
        "titlefont": {
         "color": "#4D5663"
        },
        "xaxis": {
         "gridcolor": "#E1E5ED",
         "showgrid": true,
         "tickfont": {
          "color": "#4D5663"
         },
         "title": "",
         "titlefont": {
          "color": "#4D5663"
         },
         "zerolinecolor": "#E1E5ED"
        },
        "yaxis": {
         "gridcolor": "#E1E5ED",
         "showgrid": true,
         "tickfont": {
          "color": "#4D5663"
         },
         "title": "",
         "titlefont": {
          "color": "#4D5663"
         },
         "zerolinecolor": "#E1E5ED"
        }
       }
      },
      "text/html": [
       "<div id=\"f669cb22-c91d-4a31-94cd-6b44e7b58091\" style=\"height: 525px; width: 100%;\" class=\"plotly-graph-div\"></div><script type=\"text/javascript\">require([\"plotly\"], function(Plotly) { window.PLOTLYENV=window.PLOTLYENV || {};window.PLOTLYENV.BASE_URL=\"https://plot.ly\";Plotly.newPlot(\"f669cb22-c91d-4a31-94cd-6b44e7b58091\", [{\"line\": {\"color\": \"rgba(255, 153, 51, 1.0)\", \"dash\": \"solid\", \"shape\": \"linear\", \"width\": 3}, \"mode\": \"lines\", \"name\": \"gross\", \"text\": \"\", \"x\": [1986.0, 1987.0, 1988.0, 1989.0, 1990.0, 1991.0, 1992.0, 1993.0, 1994.0, 1995.0, 1996.0, 1997.0, 1998.0, 1999.0, 2000.0, 2001.0, 2002.0, 2003.0, 2004.0, 2005.0, 2006.0, 2007.0, 2008.0, 2009.0, 2010.0, 2011.0, 2012.0, 2013.0, 2014.0, 2015.0, 2016.0], \"y\": [14280625.218181819, 15404841.200913241, 16198219.659090908, 18519136.665158372, 20176437.8, 19707199.204545453, 21100484.945454545, 22508567.95, 23050828.077272728, 23999337.84090909, 25552472.45, 29347462.522727273, 28141587.76363636, 32909595.845454544, 33327497.87272727, 36071924.695454545, 40361920.18181818, 39160082.89545455, 40765728.845454544, 39166484.7, 39699816.08181818, 41859566.095454544, 43182049.77727272, 46359680.66818182, 44512519.5, 44074120.78636364, 46751853.32727273, 47195844.32727273, 46886534.14545455, 47514619.49090909, 50631490.65909091], \"type\": \"scatter\", \"uid\": \"278eb2ee-b1c9-11e9-a024-e09467129110\"}], {\"legend\": {\"bgcolor\": \"#F5F6F9\", \"font\": {\"color\": \"#4D5663\"}}, \"paper_bgcolor\": \"#F5F6F9\", \"plot_bgcolor\": \"#F5F6F9\", \"title\": \"Mean gross per year\", \"titlefont\": {\"color\": \"#4D5663\"}, \"xaxis\": {\"gridcolor\": \"#E1E5ED\", \"showgrid\": true, \"tickfont\": {\"color\": \"#4D5663\"}, \"title\": \"\", \"titlefont\": {\"color\": \"#4D5663\"}, \"zerolinecolor\": \"#E1E5ED\"}, \"yaxis\": {\"gridcolor\": \"#E1E5ED\", \"showgrid\": true, \"tickfont\": {\"color\": \"#4D5663\"}, \"title\": \"\", \"titlefont\": {\"color\": \"#4D5663\"}, \"zerolinecolor\": \"#E1E5ED\"}}, {\"showLink\": true, \"linkText\": \"Export to plot.ly\"})});</script>"
      ],
      "text/vnd.plotly.v1+html": [
       "<div id=\"f669cb22-c91d-4a31-94cd-6b44e7b58091\" style=\"height: 525px; width: 100%;\" class=\"plotly-graph-div\"></div><script type=\"text/javascript\">require([\"plotly\"], function(Plotly) { window.PLOTLYENV=window.PLOTLYENV || {};window.PLOTLYENV.BASE_URL=\"https://plot.ly\";Plotly.newPlot(\"f669cb22-c91d-4a31-94cd-6b44e7b58091\", [{\"line\": {\"color\": \"rgba(255, 153, 51, 1.0)\", \"dash\": \"solid\", \"shape\": \"linear\", \"width\": 3}, \"mode\": \"lines\", \"name\": \"gross\", \"text\": \"\", \"x\": [1986.0, 1987.0, 1988.0, 1989.0, 1990.0, 1991.0, 1992.0, 1993.0, 1994.0, 1995.0, 1996.0, 1997.0, 1998.0, 1999.0, 2000.0, 2001.0, 2002.0, 2003.0, 2004.0, 2005.0, 2006.0, 2007.0, 2008.0, 2009.0, 2010.0, 2011.0, 2012.0, 2013.0, 2014.0, 2015.0, 2016.0], \"y\": [14280625.218181819, 15404841.200913241, 16198219.659090908, 18519136.665158372, 20176437.8, 19707199.204545453, 21100484.945454545, 22508567.95, 23050828.077272728, 23999337.84090909, 25552472.45, 29347462.522727273, 28141587.76363636, 32909595.845454544, 33327497.87272727, 36071924.695454545, 40361920.18181818, 39160082.89545455, 40765728.845454544, 39166484.7, 39699816.08181818, 41859566.095454544, 43182049.77727272, 46359680.66818182, 44512519.5, 44074120.78636364, 46751853.32727273, 47195844.32727273, 46886534.14545455, 47514619.49090909, 50631490.65909091], \"type\": \"scatter\", \"uid\": \"278eb2ee-b1c9-11e9-a024-e09467129110\"}], {\"legend\": {\"bgcolor\": \"#F5F6F9\", \"font\": {\"color\": \"#4D5663\"}}, \"paper_bgcolor\": \"#F5F6F9\", \"plot_bgcolor\": \"#F5F6F9\", \"title\": \"Mean gross per year\", \"titlefont\": {\"color\": \"#4D5663\"}, \"xaxis\": {\"gridcolor\": \"#E1E5ED\", \"showgrid\": true, \"tickfont\": {\"color\": \"#4D5663\"}, \"title\": \"\", \"titlefont\": {\"color\": \"#4D5663\"}, \"zerolinecolor\": \"#E1E5ED\"}, \"yaxis\": {\"gridcolor\": \"#E1E5ED\", \"showgrid\": true, \"tickfont\": {\"color\": \"#4D5663\"}, \"title\": \"\", \"titlefont\": {\"color\": \"#4D5663\"}, \"zerolinecolor\": \"#E1E5ED\"}}, {\"showLink\": true, \"linkText\": \"Export to plot.ly\"})});</script>"
      ]
     },
     "metadata": {},
     "output_type": "display_data"
    },
    {
     "data": {
      "text/html": [
       "<div>\n",
       "<style scoped>\n",
       "    .dataframe tbody tr th:only-of-type {\n",
       "        vertical-align: middle;\n",
       "    }\n",
       "\n",
       "    .dataframe tbody tr th {\n",
       "        vertical-align: top;\n",
       "    }\n",
       "\n",
       "    .dataframe thead th {\n",
       "        text-align: right;\n",
       "    }\n",
       "</style>\n",
       "<table border=\"1\" class=\"dataframe\">\n",
       "  <thead>\n",
       "    <tr style=\"text-align: right;\">\n",
       "      <th>year</th>\n",
       "      <th>1986</th>\n",
       "      <th>1987</th>\n",
       "      <th>1988</th>\n",
       "      <th>1989</th>\n",
       "      <th>1990</th>\n",
       "      <th>1991</th>\n",
       "      <th>1992</th>\n",
       "      <th>1993</th>\n",
       "      <th>1994</th>\n",
       "      <th>1995</th>\n",
       "      <th>...</th>\n",
       "      <th>2007</th>\n",
       "      <th>2008</th>\n",
       "      <th>2009</th>\n",
       "      <th>2010</th>\n",
       "      <th>2011</th>\n",
       "      <th>2012</th>\n",
       "      <th>2013</th>\n",
       "      <th>2014</th>\n",
       "      <th>2015</th>\n",
       "      <th>2016</th>\n",
       "    </tr>\n",
       "  </thead>\n",
       "  <tbody>\n",
       "    <tr>\n",
       "      <th>gross</th>\n",
       "      <td>1.428063e+07</td>\n",
       "      <td>1.540484e+07</td>\n",
       "      <td>1.619822e+07</td>\n",
       "      <td>1.851914e+07</td>\n",
       "      <td>20176437.8</td>\n",
       "      <td>1.970720e+07</td>\n",
       "      <td>2.110048e+07</td>\n",
       "      <td>22508567.95</td>\n",
       "      <td>2.305083e+07</td>\n",
       "      <td>2.399934e+07</td>\n",
       "      <td>...</td>\n",
       "      <td>4.185957e+07</td>\n",
       "      <td>4.318205e+07</td>\n",
       "      <td>4.635968e+07</td>\n",
       "      <td>44512519.5</td>\n",
       "      <td>4.407412e+07</td>\n",
       "      <td>4.675185e+07</td>\n",
       "      <td>4.719584e+07</td>\n",
       "      <td>4.688653e+07</td>\n",
       "      <td>4.751462e+07</td>\n",
       "      <td>5.063149e+07</td>\n",
       "    </tr>\n",
       "  </tbody>\n",
       "</table>\n",
       "<p>1 rows × 31 columns</p>\n",
       "</div>"
      ],
      "text/plain": [
       "year           1986          1987          1988          1989        1990  \\\n",
       "gross  1.428063e+07  1.540484e+07  1.619822e+07  1.851914e+07  20176437.8   \n",
       "\n",
       "year           1991          1992         1993          1994          1995  \\\n",
       "gross  1.970720e+07  2.110048e+07  22508567.95  2.305083e+07  2.399934e+07   \n",
       "\n",
       "year   ...          2007          2008          2009        2010  \\\n",
       "gross  ...  4.185957e+07  4.318205e+07  4.635968e+07  44512519.5   \n",
       "\n",
       "year           2011          2012          2013          2014          2015  \\\n",
       "gross  4.407412e+07  4.675185e+07  4.719584e+07  4.688653e+07  4.751462e+07   \n",
       "\n",
       "year           2016  \n",
       "gross  5.063149e+07  \n",
       "\n",
       "[1 rows x 31 columns]"
      ]
     },
     "execution_count": 14,
     "metadata": {},
     "output_type": "execute_result"
    }
   ],
   "source": [
    "#Gross per year\n",
    "gpy = pd.DataFrame(movies.groupby('year')['gross'].agg(np.mean))\n",
    "gpy.iplot(kind='line',color='orange',width=3, title='Mean gross per year')\n",
    "gpy.T"
   ]
  },
  {
   "cell_type": "markdown",
   "metadata": {},
   "source": [
    "_Meanwhile this plot shows us that the movies mean gross has grown almost 250% in the same lapse._"
   ]
  },
  {
   "cell_type": "code",
   "execution_count": 15,
   "metadata": {},
   "outputs": [
    {
     "data": {
      "application/vnd.plotly.v1+json": {
       "data": [
        {
         "line": {
          "color": "rgba(0, 128, 0, 1.0)",
          "dash": "solid",
          "shape": "linear",
          "width": 3
         },
         "mode": "lines",
         "name": "net",
         "text": "",
         "type": "scatter",
         "uid": "2977d0ee-b1c9-11e9-b6ce-e09467129110",
         "x": [
          1986,
          1987,
          1988,
          1989,
          1990,
          1991,
          1992,
          1993,
          1994,
          1995,
          1996,
          1997,
          1998,
          1999,
          2000,
          2001,
          2002,
          2003,
          2004,
          2005,
          2006,
          2007,
          2008,
          2009,
          2010,
          2011,
          2012,
          2013,
          2014,
          2015,
          2016
         ],
         "y": [
          4803187.590909091,
          5793185.315068494,
          5914922.55,
          7647232.1040723985,
          7469562.55909091,
          5715054.109090909,
          6265402.622727273,
          6852675.386363637,
          4977020.431818182,
          4301304.545454546,
          3189132.018181818,
          3668978.7590909093,
          3071394.786363636,
          1363970.709090909,
          3666184.959090909,
          5668115.44090909,
          9935866.181818182,
          8296856.94090909,
          7665432.195454545,
          5395654.718181818,
          5412157.172727273,
          6135982.540909091,
          7035952.8954545455,
          9663530.654545454,
          6491745.4772727275,
          6987249.8954545455,
          10687879.63181818,
          9522127.977272727,
          12490600.404545454,
          13330056.077272728,
          9896483.663636364
         ]
        }
       ],
       "layout": {
        "legend": {
         "bgcolor": "#F5F6F9",
         "font": {
          "color": "#4D5663"
         }
        },
        "paper_bgcolor": "#F5F6F9",
        "plot_bgcolor": "#F5F6F9",
        "title": "Mean net per year",
        "titlefont": {
         "color": "#4D5663"
        },
        "xaxis": {
         "gridcolor": "#E1E5ED",
         "showgrid": true,
         "tickfont": {
          "color": "#4D5663"
         },
         "title": "",
         "titlefont": {
          "color": "#4D5663"
         },
         "zerolinecolor": "#E1E5ED"
        },
        "yaxis": {
         "gridcolor": "#E1E5ED",
         "showgrid": true,
         "tickfont": {
          "color": "#4D5663"
         },
         "title": "",
         "titlefont": {
          "color": "#4D5663"
         },
         "zerolinecolor": "#E1E5ED"
        }
       }
      },
      "text/html": [
       "<div id=\"0e377b54-ea8c-4076-9247-116b65651227\" style=\"height: 525px; width: 100%;\" class=\"plotly-graph-div\"></div><script type=\"text/javascript\">require([\"plotly\"], function(Plotly) { window.PLOTLYENV=window.PLOTLYENV || {};window.PLOTLYENV.BASE_URL=\"https://plot.ly\";Plotly.newPlot(\"0e377b54-ea8c-4076-9247-116b65651227\", [{\"line\": {\"color\": \"rgba(0, 128, 0, 1.0)\", \"dash\": \"solid\", \"shape\": \"linear\", \"width\": 3}, \"mode\": \"lines\", \"name\": \"net\", \"text\": \"\", \"x\": [1986.0, 1987.0, 1988.0, 1989.0, 1990.0, 1991.0, 1992.0, 1993.0, 1994.0, 1995.0, 1996.0, 1997.0, 1998.0, 1999.0, 2000.0, 2001.0, 2002.0, 2003.0, 2004.0, 2005.0, 2006.0, 2007.0, 2008.0, 2009.0, 2010.0, 2011.0, 2012.0, 2013.0, 2014.0, 2015.0, 2016.0], \"y\": [4803187.590909091, 5793185.315068494, 5914922.55, 7647232.1040723985, 7469562.55909091, 5715054.109090909, 6265402.622727273, 6852675.386363637, 4977020.431818182, 4301304.545454546, 3189132.018181818, 3668978.7590909093, 3071394.786363636, 1363970.709090909, 3666184.959090909, 5668115.44090909, 9935866.181818182, 8296856.94090909, 7665432.195454545, 5395654.718181818, 5412157.172727273, 6135982.540909091, 7035952.8954545455, 9663530.654545454, 6491745.4772727275, 6987249.8954545455, 10687879.63181818, 9522127.977272727, 12490600.404545454, 13330056.077272728, 9896483.663636364], \"type\": \"scatter\", \"uid\": \"297ed102-b1c9-11e9-a7f7-e09467129110\"}], {\"legend\": {\"bgcolor\": \"#F5F6F9\", \"font\": {\"color\": \"#4D5663\"}}, \"paper_bgcolor\": \"#F5F6F9\", \"plot_bgcolor\": \"#F5F6F9\", \"title\": \"Mean net per year\", \"titlefont\": {\"color\": \"#4D5663\"}, \"xaxis\": {\"gridcolor\": \"#E1E5ED\", \"showgrid\": true, \"tickfont\": {\"color\": \"#4D5663\"}, \"title\": \"\", \"titlefont\": {\"color\": \"#4D5663\"}, \"zerolinecolor\": \"#E1E5ED\"}, \"yaxis\": {\"gridcolor\": \"#E1E5ED\", \"showgrid\": true, \"tickfont\": {\"color\": \"#4D5663\"}, \"title\": \"\", \"titlefont\": {\"color\": \"#4D5663\"}, \"zerolinecolor\": \"#E1E5ED\"}}, {\"showLink\": true, \"linkText\": \"Export to plot.ly\"})});</script>"
      ],
      "text/vnd.plotly.v1+html": [
       "<div id=\"0e377b54-ea8c-4076-9247-116b65651227\" style=\"height: 525px; width: 100%;\" class=\"plotly-graph-div\"></div><script type=\"text/javascript\">require([\"plotly\"], function(Plotly) { window.PLOTLYENV=window.PLOTLYENV || {};window.PLOTLYENV.BASE_URL=\"https://plot.ly\";Plotly.newPlot(\"0e377b54-ea8c-4076-9247-116b65651227\", [{\"line\": {\"color\": \"rgba(0, 128, 0, 1.0)\", \"dash\": \"solid\", \"shape\": \"linear\", \"width\": 3}, \"mode\": \"lines\", \"name\": \"net\", \"text\": \"\", \"x\": [1986.0, 1987.0, 1988.0, 1989.0, 1990.0, 1991.0, 1992.0, 1993.0, 1994.0, 1995.0, 1996.0, 1997.0, 1998.0, 1999.0, 2000.0, 2001.0, 2002.0, 2003.0, 2004.0, 2005.0, 2006.0, 2007.0, 2008.0, 2009.0, 2010.0, 2011.0, 2012.0, 2013.0, 2014.0, 2015.0, 2016.0], \"y\": [4803187.590909091, 5793185.315068494, 5914922.55, 7647232.1040723985, 7469562.55909091, 5715054.109090909, 6265402.622727273, 6852675.386363637, 4977020.431818182, 4301304.545454546, 3189132.018181818, 3668978.7590909093, 3071394.786363636, 1363970.709090909, 3666184.959090909, 5668115.44090909, 9935866.181818182, 8296856.94090909, 7665432.195454545, 5395654.718181818, 5412157.172727273, 6135982.540909091, 7035952.8954545455, 9663530.654545454, 6491745.4772727275, 6987249.8954545455, 10687879.63181818, 9522127.977272727, 12490600.404545454, 13330056.077272728, 9896483.663636364], \"type\": \"scatter\", \"uid\": \"297ed102-b1c9-11e9-a7f7-e09467129110\"}], {\"legend\": {\"bgcolor\": \"#F5F6F9\", \"font\": {\"color\": \"#4D5663\"}}, \"paper_bgcolor\": \"#F5F6F9\", \"plot_bgcolor\": \"#F5F6F9\", \"title\": \"Mean net per year\", \"titlefont\": {\"color\": \"#4D5663\"}, \"xaxis\": {\"gridcolor\": \"#E1E5ED\", \"showgrid\": true, \"tickfont\": {\"color\": \"#4D5663\"}, \"title\": \"\", \"titlefont\": {\"color\": \"#4D5663\"}, \"zerolinecolor\": \"#E1E5ED\"}, \"yaxis\": {\"gridcolor\": \"#E1E5ED\", \"showgrid\": true, \"tickfont\": {\"color\": \"#4D5663\"}, \"title\": \"\", \"titlefont\": {\"color\": \"#4D5663\"}, \"zerolinecolor\": \"#E1E5ED\"}}, {\"showLink\": true, \"linkText\": \"Export to plot.ly\"})});</script>"
      ]
     },
     "metadata": {},
     "output_type": "display_data"
    },
    {
     "data": {
      "text/html": [
       "<div>\n",
       "<style scoped>\n",
       "    .dataframe tbody tr th:only-of-type {\n",
       "        vertical-align: middle;\n",
       "    }\n",
       "\n",
       "    .dataframe tbody tr th {\n",
       "        vertical-align: top;\n",
       "    }\n",
       "\n",
       "    .dataframe thead th {\n",
       "        text-align: right;\n",
       "    }\n",
       "</style>\n",
       "<table border=\"1\" class=\"dataframe\">\n",
       "  <thead>\n",
       "    <tr style=\"text-align: right;\">\n",
       "      <th>year</th>\n",
       "      <th>1986</th>\n",
       "      <th>1987</th>\n",
       "      <th>1988</th>\n",
       "      <th>1989</th>\n",
       "      <th>1990</th>\n",
       "      <th>1991</th>\n",
       "      <th>1992</th>\n",
       "      <th>1993</th>\n",
       "      <th>1994</th>\n",
       "      <th>1995</th>\n",
       "      <th>...</th>\n",
       "      <th>2007</th>\n",
       "      <th>2008</th>\n",
       "      <th>2009</th>\n",
       "      <th>2010</th>\n",
       "      <th>2011</th>\n",
       "      <th>2012</th>\n",
       "      <th>2013</th>\n",
       "      <th>2014</th>\n",
       "      <th>2015</th>\n",
       "      <th>2016</th>\n",
       "    </tr>\n",
       "  </thead>\n",
       "  <tbody>\n",
       "    <tr>\n",
       "      <th>net</th>\n",
       "      <td>4.803188e+06</td>\n",
       "      <td>5.793185e+06</td>\n",
       "      <td>5914922.55</td>\n",
       "      <td>7.647232e+06</td>\n",
       "      <td>7.469563e+06</td>\n",
       "      <td>5.715054e+06</td>\n",
       "      <td>6.265403e+06</td>\n",
       "      <td>6.852675e+06</td>\n",
       "      <td>4.977020e+06</td>\n",
       "      <td>4.301305e+06</td>\n",
       "      <td>...</td>\n",
       "      <td>6.135983e+06</td>\n",
       "      <td>7.035953e+06</td>\n",
       "      <td>9.663531e+06</td>\n",
       "      <td>6.491745e+06</td>\n",
       "      <td>6.987250e+06</td>\n",
       "      <td>1.068788e+07</td>\n",
       "      <td>9.522128e+06</td>\n",
       "      <td>1.249060e+07</td>\n",
       "      <td>1.333006e+07</td>\n",
       "      <td>9.896484e+06</td>\n",
       "    </tr>\n",
       "  </tbody>\n",
       "</table>\n",
       "<p>1 rows × 31 columns</p>\n",
       "</div>"
      ],
      "text/plain": [
       "year          1986          1987        1988          1989          1990  \\\n",
       "net   4.803188e+06  5.793185e+06  5914922.55  7.647232e+06  7.469563e+06   \n",
       "\n",
       "year          1991          1992          1993          1994          1995  \\\n",
       "net   5.715054e+06  6.265403e+06  6.852675e+06  4.977020e+06  4.301305e+06   \n",
       "\n",
       "year  ...          2007          2008          2009          2010  \\\n",
       "net   ...  6.135983e+06  7.035953e+06  9.663531e+06  6.491745e+06   \n",
       "\n",
       "year          2011          2012          2013          2014          2015  \\\n",
       "net   6.987250e+06  1.068788e+07  9.522128e+06  1.249060e+07  1.333006e+07   \n",
       "\n",
       "year          2016  \n",
       "net   9.896484e+06  \n",
       "\n",
       "[1 rows x 31 columns]"
      ]
     },
     "execution_count": 15,
     "metadata": {},
     "output_type": "execute_result"
    }
   ],
   "source": [
    "#Net per year\n",
    "npy = pd.DataFrame(movies.groupby('year')['net'].agg(np.mean))\n",
    "npy.iplot(kind='line',color='green',width=3, title='Mean net per year')\n",
    "npy.T"
   ]
  },
  {
   "cell_type": "markdown",
   "metadata": {},
   "source": [
    "_As a result the net mean has grown 150% on those years._"
   ]
  },
  {
   "cell_type": "markdown",
   "metadata": {},
   "source": [
    "__Now lets see the distribution of the movies in the database.__"
   ]
  },
  {
   "cell_type": "code",
   "execution_count": 49,
   "metadata": {},
   "outputs": [
    {
     "data": {
      "text/plain": [
       "<bound method IndexOpsMixin.item of 0       1986\n",
       "1       1986\n",
       "2       1986\n",
       "3       1986\n",
       "4       1986\n",
       "5       1986\n",
       "6       1986\n",
       "7       1986\n",
       "8       1986\n",
       "9       1986\n",
       "10      1986\n",
       "11      1986\n",
       "12      1986\n",
       "13      1986\n",
       "14      1986\n",
       "15      1986\n",
       "16      1986\n",
       "17      1986\n",
       "18      1986\n",
       "19      1986\n",
       "20      1986\n",
       "21      1986\n",
       "22      1986\n",
       "23      1986\n",
       "24      1986\n",
       "25      1986\n",
       "26      1986\n",
       "27      1986\n",
       "28      1986\n",
       "29      1986\n",
       "        ... \n",
       "6790    2016\n",
       "6791    2016\n",
       "6792    2016\n",
       "6793    2016\n",
       "6794    2016\n",
       "6795    2016\n",
       "6796    2016\n",
       "6797    2016\n",
       "6798    2016\n",
       "6799    2016\n",
       "6800    2016\n",
       "6801    2016\n",
       "6802    2016\n",
       "6803    2016\n",
       "6804    2016\n",
       "6805    2016\n",
       "6806    2016\n",
       "6807    2016\n",
       "6808    2016\n",
       "6809    2016\n",
       "6810    2016\n",
       "6811    2016\n",
       "6812    2016\n",
       "6813    2016\n",
       "6814    2016\n",
       "6815    2016\n",
       "6816    2016\n",
       "6817    2016\n",
       "6818    2016\n",
       "6819    2016\n",
       "Name: year, Length: 6820, dtype: int64>"
      ]
     },
     "execution_count": 49,
     "metadata": {},
     "output_type": "execute_result"
    }
   ],
   "source": [
    "#movies distribution\n",
    "md = movies['year'].item\n",
    "md"
   ]
  },
  {
   "cell_type": "markdown",
   "metadata": {},
   "source": [
    "\n",
    "\n",
    "__The hypthesis was correct, the new features in the movie industry, special effects and some ohter costs have exponentially affected the mean budget to shot a film, and in another hand the gross and net has increase but not in the same proportion.__\n",
    "<br>\n",
    "<br>\n",
    "<br>\n",
    "__Now lets look this same information but by country. The new hypothesis is that the USA should be the country that is investing more in the movie industry.__"
   ]
  },
  {
   "cell_type": "code",
   "execution_count": 31,
   "metadata": {
    "scrolled": false
   },
   "outputs": [
    {
     "data": {
      "application/vnd.plotly.v1+json": {
       "data": [
        {
         "marker": {
          "color": "rgba(219, 64, 82, 0.6)",
          "line": {
           "color": "rgba(219, 64, 82, 1.0)",
           "width": 1
          }
         },
         "name": "budget",
         "orientation": "v",
         "text": "",
         "type": "bar",
         "uid": "fc7cf3e2-b1c9-11e9-b905-e09467129110",
         "x": [
          "USA",
          "UK",
          "Germany",
          "France",
          "Canada",
          "Australia",
          "China",
          "New Zealand",
          "Japan",
          "Hong Kong"
         ],
         "y": [
          139948420035,
          12356215000,
          3666250000,
          3113300000,
          1893225000,
          1128290000,
          1110400000,
          706600000,
          647200000,
          596428966
         ]
        }
       ],
       "layout": {
        "legend": {
         "bgcolor": "#F5F6F9",
         "font": {
          "color": "#4D5663"
         }
        },
        "paper_bgcolor": "#F5F6F9",
        "plot_bgcolor": "#F5F6F9",
        "title": "Top 10 movie investing countries",
        "titlefont": {
         "color": "#4D5663"
        },
        "xaxis": {
         "gridcolor": "#E1E5ED",
         "showgrid": true,
         "tickfont": {
          "color": "#4D5663"
         },
         "title": "",
         "titlefont": {
          "color": "#4D5663"
         },
         "zerolinecolor": "#E1E5ED"
        },
        "yaxis": {
         "gridcolor": "#E1E5ED",
         "showgrid": true,
         "tickfont": {
          "color": "#4D5663"
         },
         "title": "",
         "titlefont": {
          "color": "#4D5663"
         },
         "zerolinecolor": "#E1E5ED"
        }
       }
      },
      "text/html": [
       "<div id=\"e3de0abe-dc64-444d-bc47-cb2c3fe50f4c\" style=\"height: 525px; width: 100%;\" class=\"plotly-graph-div\"></div><script type=\"text/javascript\">require([\"plotly\"], function(Plotly) { window.PLOTLYENV=window.PLOTLYENV || {};window.PLOTLYENV.BASE_URL=\"https://plot.ly\";Plotly.newPlot(\"e3de0abe-dc64-444d-bc47-cb2c3fe50f4c\", [{\"marker\": {\"color\": \"rgba(219, 64, 82, 0.6)\", \"line\": {\"color\": \"rgba(219, 64, 82, 1.0)\", \"width\": 1}}, \"name\": \"budget\", \"orientation\": \"v\", \"text\": \"\", \"x\": [\"USA\", \"UK\", \"Germany\", \"France\", \"Canada\", \"Australia\", \"China\", \"New Zealand\", \"Japan\", \"Hong Kong\"], \"y\": [139948420035.0, 12356215000.0, 3666250000.0, 3113300000.0, 1893225000.0, 1128290000.0, 1110400000.0, 706600000.0, 647200000.0, 596428966.0], \"type\": \"bar\", \"uid\": \"fc849086-b1c9-11e9-abc0-e09467129110\"}], {\"legend\": {\"bgcolor\": \"#F5F6F9\", \"font\": {\"color\": \"#4D5663\"}}, \"paper_bgcolor\": \"#F5F6F9\", \"plot_bgcolor\": \"#F5F6F9\", \"title\": \"Top 10 movie investing countries\", \"titlefont\": {\"color\": \"#4D5663\"}, \"xaxis\": {\"gridcolor\": \"#E1E5ED\", \"showgrid\": true, \"tickfont\": {\"color\": \"#4D5663\"}, \"title\": \"\", \"titlefont\": {\"color\": \"#4D5663\"}, \"zerolinecolor\": \"#E1E5ED\"}, \"yaxis\": {\"gridcolor\": \"#E1E5ED\", \"showgrid\": true, \"tickfont\": {\"color\": \"#4D5663\"}, \"title\": \"\", \"titlefont\": {\"color\": \"#4D5663\"}, \"zerolinecolor\": \"#E1E5ED\"}}, {\"showLink\": true, \"linkText\": \"Export to plot.ly\"})});</script>"
      ],
      "text/vnd.plotly.v1+html": [
       "<div id=\"e3de0abe-dc64-444d-bc47-cb2c3fe50f4c\" style=\"height: 525px; width: 100%;\" class=\"plotly-graph-div\"></div><script type=\"text/javascript\">require([\"plotly\"], function(Plotly) { window.PLOTLYENV=window.PLOTLYENV || {};window.PLOTLYENV.BASE_URL=\"https://plot.ly\";Plotly.newPlot(\"e3de0abe-dc64-444d-bc47-cb2c3fe50f4c\", [{\"marker\": {\"color\": \"rgba(219, 64, 82, 0.6)\", \"line\": {\"color\": \"rgba(219, 64, 82, 1.0)\", \"width\": 1}}, \"name\": \"budget\", \"orientation\": \"v\", \"text\": \"\", \"x\": [\"USA\", \"UK\", \"Germany\", \"France\", \"Canada\", \"Australia\", \"China\", \"New Zealand\", \"Japan\", \"Hong Kong\"], \"y\": [139948420035.0, 12356215000.0, 3666250000.0, 3113300000.0, 1893225000.0, 1128290000.0, 1110400000.0, 706600000.0, 647200000.0, 596428966.0], \"type\": \"bar\", \"uid\": \"fc849086-b1c9-11e9-abc0-e09467129110\"}], {\"legend\": {\"bgcolor\": \"#F5F6F9\", \"font\": {\"color\": \"#4D5663\"}}, \"paper_bgcolor\": \"#F5F6F9\", \"plot_bgcolor\": \"#F5F6F9\", \"title\": \"Top 10 movie investing countries\", \"titlefont\": {\"color\": \"#4D5663\"}, \"xaxis\": {\"gridcolor\": \"#E1E5ED\", \"showgrid\": true, \"tickfont\": {\"color\": \"#4D5663\"}, \"title\": \"\", \"titlefont\": {\"color\": \"#4D5663\"}, \"zerolinecolor\": \"#E1E5ED\"}, \"yaxis\": {\"gridcolor\": \"#E1E5ED\", \"showgrid\": true, \"tickfont\": {\"color\": \"#4D5663\"}, \"title\": \"\", \"titlefont\": {\"color\": \"#4D5663\"}, \"zerolinecolor\": \"#E1E5ED\"}}, {\"showLink\": true, \"linkText\": \"Export to plot.ly\"})});</script>"
      ]
     },
     "metadata": {},
     "output_type": "display_data"
    },
    {
     "data": {
      "text/html": [
       "<div>\n",
       "<style scoped>\n",
       "    .dataframe tbody tr th:only-of-type {\n",
       "        vertical-align: middle;\n",
       "    }\n",
       "\n",
       "    .dataframe tbody tr th {\n",
       "        vertical-align: top;\n",
       "    }\n",
       "\n",
       "    .dataframe thead th {\n",
       "        text-align: right;\n",
       "    }\n",
       "</style>\n",
       "<table border=\"1\" class=\"dataframe\">\n",
       "  <thead>\n",
       "    <tr style=\"text-align: right;\">\n",
       "      <th>country</th>\n",
       "      <th>USA</th>\n",
       "      <th>UK</th>\n",
       "      <th>Germany</th>\n",
       "      <th>France</th>\n",
       "      <th>Canada</th>\n",
       "      <th>Australia</th>\n",
       "      <th>China</th>\n",
       "      <th>New Zealand</th>\n",
       "      <th>Japan</th>\n",
       "      <th>Hong Kong</th>\n",
       "    </tr>\n",
       "  </thead>\n",
       "  <tbody>\n",
       "    <tr>\n",
       "      <th>budget</th>\n",
       "      <td>1.399484e+11</td>\n",
       "      <td>1.235622e+10</td>\n",
       "      <td>3.666250e+09</td>\n",
       "      <td>3.113300e+09</td>\n",
       "      <td>1.893225e+09</td>\n",
       "      <td>1.128290e+09</td>\n",
       "      <td>1.110400e+09</td>\n",
       "      <td>706600000.0</td>\n",
       "      <td>647200000.0</td>\n",
       "      <td>596428966.0</td>\n",
       "    </tr>\n",
       "  </tbody>\n",
       "</table>\n",
       "</div>"
      ],
      "text/plain": [
       "country           USA            UK       Germany        France        Canada  \\\n",
       "budget   1.399484e+11  1.235622e+10  3.666250e+09  3.113300e+09  1.893225e+09   \n",
       "\n",
       "country     Australia         China  New Zealand        Japan    Hong Kong  \n",
       "budget   1.128290e+09  1.110400e+09  706600000.0  647200000.0  596428966.0  "
      ]
     },
     "execution_count": 31,
     "metadata": {},
     "output_type": "execute_result"
    }
   ],
   "source": [
    "#budget per year and country\n",
    "bpyac = pd.pivot_table(movies,index ='country',\n",
    "                       values=['budget'],\n",
    "                       aggfunc=np.sum).sort_values('budget',ascending=False).head(10)\n",
    "bpyac.iplot(kind='bar',color='red', title='Top 10 movie investing countries')\n",
    "bpyac.T"
   ]
  },
  {
   "cell_type": "markdown",
   "metadata": {},
   "source": [
    "_On this plot we can see that the USA is the country that has invested more money in the movie industry, followed by the UK and Germany._"
   ]
  },
  {
   "cell_type": "code",
   "execution_count": 19,
   "metadata": {},
   "outputs": [
    {
     "data": {
      "application/vnd.plotly.v1+json": {
       "data": [
        {
         "marker": {
          "color": "rgba(255, 153, 51, 0.6)",
          "line": {
           "color": "rgba(255, 153, 51, 1.0)",
           "width": 1
          }
         },
         "name": "gross",
         "orientation": "v",
         "text": "",
         "type": "bar",
         "uid": "3eaac04a-b1c9-11e9-8aec-e09467129110",
         "x": [
          "USA",
          "UK",
          "Germany",
          "France",
          "Canada",
          "Australia",
          "Japan",
          "China",
          "New Zealand",
          "Hong Kong"
         ],
         "y": [
          197934880427,
          14209816197,
          3199462543,
          3037066879,
          2296115123,
          1623710687,
          1165489704,
          1005234480,
          933289753,
          595212447
         ]
        }
       ],
       "layout": {
        "legend": {
         "bgcolor": "#F5F6F9",
         "font": {
          "color": "#4D5663"
         }
        },
        "paper_bgcolor": "#F5F6F9",
        "plot_bgcolor": "#F5F6F9",
        "title": "Top 10 movie gross by countries",
        "titlefont": {
         "color": "#4D5663"
        },
        "xaxis": {
         "gridcolor": "#E1E5ED",
         "showgrid": true,
         "tickfont": {
          "color": "#4D5663"
         },
         "title": "",
         "titlefont": {
          "color": "#4D5663"
         },
         "zerolinecolor": "#E1E5ED"
        },
        "yaxis": {
         "gridcolor": "#E1E5ED",
         "showgrid": true,
         "tickfont": {
          "color": "#4D5663"
         },
         "title": "",
         "titlefont": {
          "color": "#4D5663"
         },
         "zerolinecolor": "#E1E5ED"
        }
       }
      },
      "text/html": [
       "<div id=\"8c1da837-abc4-4205-8bfe-5768b0a566a9\" style=\"height: 525px; width: 100%;\" class=\"plotly-graph-div\"></div><script type=\"text/javascript\">require([\"plotly\"], function(Plotly) { window.PLOTLYENV=window.PLOTLYENV || {};window.PLOTLYENV.BASE_URL=\"https://plot.ly\";Plotly.newPlot(\"8c1da837-abc4-4205-8bfe-5768b0a566a9\", [{\"marker\": {\"color\": \"rgba(255, 153, 51, 0.6)\", \"line\": {\"color\": \"rgba(255, 153, 51, 1.0)\", \"width\": 1}}, \"name\": \"gross\", \"orientation\": \"v\", \"text\": \"\", \"x\": [\"USA\", \"UK\", \"Germany\", \"France\", \"Canada\", \"Australia\", \"Japan\", \"China\", \"New Zealand\", \"Hong Kong\"], \"y\": [197934880427.0, 14209816197.0, 3199462543.0, 3037066879.0, 2296115123.0, 1623710687.0, 1165489704.0, 1005234480.0, 933289753.0, 595212447.0], \"type\": \"bar\", \"uid\": \"3eb25d52-b1c9-11e9-b471-e09467129110\"}], {\"legend\": {\"bgcolor\": \"#F5F6F9\", \"font\": {\"color\": \"#4D5663\"}}, \"paper_bgcolor\": \"#F5F6F9\", \"plot_bgcolor\": \"#F5F6F9\", \"title\": \"Top 10 movie gross by countries\", \"titlefont\": {\"color\": \"#4D5663\"}, \"xaxis\": {\"gridcolor\": \"#E1E5ED\", \"showgrid\": true, \"tickfont\": {\"color\": \"#4D5663\"}, \"title\": \"\", \"titlefont\": {\"color\": \"#4D5663\"}, \"zerolinecolor\": \"#E1E5ED\"}, \"yaxis\": {\"gridcolor\": \"#E1E5ED\", \"showgrid\": true, \"tickfont\": {\"color\": \"#4D5663\"}, \"title\": \"\", \"titlefont\": {\"color\": \"#4D5663\"}, \"zerolinecolor\": \"#E1E5ED\"}}, {\"showLink\": true, \"linkText\": \"Export to plot.ly\"})});</script>"
      ],
      "text/vnd.plotly.v1+html": [
       "<div id=\"8c1da837-abc4-4205-8bfe-5768b0a566a9\" style=\"height: 525px; width: 100%;\" class=\"plotly-graph-div\"></div><script type=\"text/javascript\">require([\"plotly\"], function(Plotly) { window.PLOTLYENV=window.PLOTLYENV || {};window.PLOTLYENV.BASE_URL=\"https://plot.ly\";Plotly.newPlot(\"8c1da837-abc4-4205-8bfe-5768b0a566a9\", [{\"marker\": {\"color\": \"rgba(255, 153, 51, 0.6)\", \"line\": {\"color\": \"rgba(255, 153, 51, 1.0)\", \"width\": 1}}, \"name\": \"gross\", \"orientation\": \"v\", \"text\": \"\", \"x\": [\"USA\", \"UK\", \"Germany\", \"France\", \"Canada\", \"Australia\", \"Japan\", \"China\", \"New Zealand\", \"Hong Kong\"], \"y\": [197934880427.0, 14209816197.0, 3199462543.0, 3037066879.0, 2296115123.0, 1623710687.0, 1165489704.0, 1005234480.0, 933289753.0, 595212447.0], \"type\": \"bar\", \"uid\": \"3eb25d52-b1c9-11e9-b471-e09467129110\"}], {\"legend\": {\"bgcolor\": \"#F5F6F9\", \"font\": {\"color\": \"#4D5663\"}}, \"paper_bgcolor\": \"#F5F6F9\", \"plot_bgcolor\": \"#F5F6F9\", \"title\": \"Top 10 movie gross by countries\", \"titlefont\": {\"color\": \"#4D5663\"}, \"xaxis\": {\"gridcolor\": \"#E1E5ED\", \"showgrid\": true, \"tickfont\": {\"color\": \"#4D5663\"}, \"title\": \"\", \"titlefont\": {\"color\": \"#4D5663\"}, \"zerolinecolor\": \"#E1E5ED\"}, \"yaxis\": {\"gridcolor\": \"#E1E5ED\", \"showgrid\": true, \"tickfont\": {\"color\": \"#4D5663\"}, \"title\": \"\", \"titlefont\": {\"color\": \"#4D5663\"}, \"zerolinecolor\": \"#E1E5ED\"}}, {\"showLink\": true, \"linkText\": \"Export to plot.ly\"})});</script>"
      ]
     },
     "metadata": {},
     "output_type": "display_data"
    },
    {
     "data": {
      "text/html": [
       "<div>\n",
       "<style scoped>\n",
       "    .dataframe tbody tr th:only-of-type {\n",
       "        vertical-align: middle;\n",
       "    }\n",
       "\n",
       "    .dataframe tbody tr th {\n",
       "        vertical-align: top;\n",
       "    }\n",
       "\n",
       "    .dataframe thead th {\n",
       "        text-align: right;\n",
       "    }\n",
       "</style>\n",
       "<table border=\"1\" class=\"dataframe\">\n",
       "  <thead>\n",
       "    <tr style=\"text-align: right;\">\n",
       "      <th>country</th>\n",
       "      <th>USA</th>\n",
       "      <th>UK</th>\n",
       "      <th>Germany</th>\n",
       "      <th>France</th>\n",
       "      <th>Canada</th>\n",
       "      <th>Australia</th>\n",
       "      <th>Japan</th>\n",
       "      <th>China</th>\n",
       "      <th>New Zealand</th>\n",
       "      <th>Hong Kong</th>\n",
       "    </tr>\n",
       "  </thead>\n",
       "  <tbody>\n",
       "    <tr>\n",
       "      <th>gross</th>\n",
       "      <td>1.979349e+11</td>\n",
       "      <td>1.420982e+10</td>\n",
       "      <td>3.199463e+09</td>\n",
       "      <td>3.037067e+09</td>\n",
       "      <td>2.296115e+09</td>\n",
       "      <td>1.623711e+09</td>\n",
       "      <td>1.165490e+09</td>\n",
       "      <td>1.005234e+09</td>\n",
       "      <td>933289753.0</td>\n",
       "      <td>595212447.0</td>\n",
       "    </tr>\n",
       "  </tbody>\n",
       "</table>\n",
       "</div>"
      ],
      "text/plain": [
       "country           USA            UK       Germany        France        Canada  \\\n",
       "gross    1.979349e+11  1.420982e+10  3.199463e+09  3.037067e+09  2.296115e+09   \n",
       "\n",
       "country     Australia         Japan         China  New Zealand    Hong Kong  \n",
       "gross    1.623711e+09  1.165490e+09  1.005234e+09  933289753.0  595212447.0  "
      ]
     },
     "execution_count": 19,
     "metadata": {},
     "output_type": "execute_result"
    }
   ],
   "source": [
    "#gross per year and country\n",
    "gpyac = pd.pivot_table(movies,index ='country',\n",
    "                       values=['gross'],\n",
    "                       aggfunc=np.sum).sort_values('gross',ascending=False).head(10)\n",
    "gpyac.iplot(kind='bar',color='orange', title='Top 10 movie gross by countries')\n",
    "gpyac.T"
   ]
  },
  {
   "cell_type": "markdown",
   "metadata": {},
   "source": [
    "_On this plot we can see that the USA is for long the country with the best gross per movie._"
   ]
  },
  {
   "cell_type": "code",
   "execution_count": 20,
   "metadata": {},
   "outputs": [
    {
     "data": {
      "application/vnd.plotly.v1+json": {
       "data": [
        {
         "marker": {
          "color": "rgba(0, 128, 0, 0.6)",
          "line": {
           "color": "rgba(0, 128, 0, 1.0)",
           "width": 1
          }
         },
         "name": "net",
         "orientation": "v",
         "text": "",
         "type": "bar",
         "uid": "4b097034-b1c9-11e9-9b2c-e09467129110",
         "x": [
          "USA",
          "UK",
          "Australia",
          "Japan",
          "Canada",
          "New Zealand",
          "Taiwan",
          "South Africa",
          "Mexico",
          "Finland"
         ],
         "y": [
          46467749297,
          513052081,
          401698853,
          400460745,
          253757608,
          196891729,
          102378209,
          100178815,
          48409716,
          34509366
         ]
        }
       ],
       "layout": {
        "legend": {
         "bgcolor": "#F5F6F9",
         "font": {
          "color": "#4D5663"
         }
        },
        "paper_bgcolor": "#F5F6F9",
        "plot_bgcolor": "#F5F6F9",
        "title": "Top 10 movie revenue by countries",
        "titlefont": {
         "color": "#4D5663"
        },
        "xaxis": {
         "gridcolor": "#E1E5ED",
         "showgrid": true,
         "tickfont": {
          "color": "#4D5663"
         },
         "title": "",
         "titlefont": {
          "color": "#4D5663"
         },
         "zerolinecolor": "#E1E5ED"
        },
        "yaxis": {
         "gridcolor": "#E1E5ED",
         "showgrid": true,
         "tickfont": {
          "color": "#4D5663"
         },
         "title": "",
         "titlefont": {
          "color": "#4D5663"
         },
         "zerolinecolor": "#E1E5ED"
        }
       }
      },
      "text/html": [
       "<div id=\"f8cfecb3-a502-4851-ae56-6f869a98ffd7\" style=\"height: 525px; width: 100%;\" class=\"plotly-graph-div\"></div><script type=\"text/javascript\">require([\"plotly\"], function(Plotly) { window.PLOTLYENV=window.PLOTLYENV || {};window.PLOTLYENV.BASE_URL=\"https://plot.ly\";Plotly.newPlot(\"f8cfecb3-a502-4851-ae56-6f869a98ffd7\", [{\"marker\": {\"color\": \"rgba(0, 128, 0, 0.6)\", \"line\": {\"color\": \"rgba(0, 128, 0, 1.0)\", \"width\": 1}}, \"name\": \"net\", \"orientation\": \"v\", \"text\": \"\", \"x\": [\"USA\", \"UK\", \"Australia\", \"Japan\", \"Canada\", \"New Zealand\", \"Taiwan\", \"South Africa\", \"Mexico\", \"Finland\"], \"y\": [46467749297.0, 513052081.0, 401698853.0, 400460745.0, 253757608.0, 196891729.0, 102378209.0, 100178815.0, 48409716.0, 34509366.0], \"type\": \"bar\", \"uid\": \"4b110d1c-b1c9-11e9-ac95-e09467129110\"}], {\"legend\": {\"bgcolor\": \"#F5F6F9\", \"font\": {\"color\": \"#4D5663\"}}, \"paper_bgcolor\": \"#F5F6F9\", \"plot_bgcolor\": \"#F5F6F9\", \"title\": \"Top 10 movie revenue by countries\", \"titlefont\": {\"color\": \"#4D5663\"}, \"xaxis\": {\"gridcolor\": \"#E1E5ED\", \"showgrid\": true, \"tickfont\": {\"color\": \"#4D5663\"}, \"title\": \"\", \"titlefont\": {\"color\": \"#4D5663\"}, \"zerolinecolor\": \"#E1E5ED\"}, \"yaxis\": {\"gridcolor\": \"#E1E5ED\", \"showgrid\": true, \"tickfont\": {\"color\": \"#4D5663\"}, \"title\": \"\", \"titlefont\": {\"color\": \"#4D5663\"}, \"zerolinecolor\": \"#E1E5ED\"}}, {\"showLink\": true, \"linkText\": \"Export to plot.ly\"})});</script>"
      ],
      "text/vnd.plotly.v1+html": [
       "<div id=\"f8cfecb3-a502-4851-ae56-6f869a98ffd7\" style=\"height: 525px; width: 100%;\" class=\"plotly-graph-div\"></div><script type=\"text/javascript\">require([\"plotly\"], function(Plotly) { window.PLOTLYENV=window.PLOTLYENV || {};window.PLOTLYENV.BASE_URL=\"https://plot.ly\";Plotly.newPlot(\"f8cfecb3-a502-4851-ae56-6f869a98ffd7\", [{\"marker\": {\"color\": \"rgba(0, 128, 0, 0.6)\", \"line\": {\"color\": \"rgba(0, 128, 0, 1.0)\", \"width\": 1}}, \"name\": \"net\", \"orientation\": \"v\", \"text\": \"\", \"x\": [\"USA\", \"UK\", \"Australia\", \"Japan\", \"Canada\", \"New Zealand\", \"Taiwan\", \"South Africa\", \"Mexico\", \"Finland\"], \"y\": [46467749297.0, 513052081.0, 401698853.0, 400460745.0, 253757608.0, 196891729.0, 102378209.0, 100178815.0, 48409716.0, 34509366.0], \"type\": \"bar\", \"uid\": \"4b110d1c-b1c9-11e9-ac95-e09467129110\"}], {\"legend\": {\"bgcolor\": \"#F5F6F9\", \"font\": {\"color\": \"#4D5663\"}}, \"paper_bgcolor\": \"#F5F6F9\", \"plot_bgcolor\": \"#F5F6F9\", \"title\": \"Top 10 movie revenue by countries\", \"titlefont\": {\"color\": \"#4D5663\"}, \"xaxis\": {\"gridcolor\": \"#E1E5ED\", \"showgrid\": true, \"tickfont\": {\"color\": \"#4D5663\"}, \"title\": \"\", \"titlefont\": {\"color\": \"#4D5663\"}, \"zerolinecolor\": \"#E1E5ED\"}, \"yaxis\": {\"gridcolor\": \"#E1E5ED\", \"showgrid\": true, \"tickfont\": {\"color\": \"#4D5663\"}, \"title\": \"\", \"titlefont\": {\"color\": \"#4D5663\"}, \"zerolinecolor\": \"#E1E5ED\"}}, {\"showLink\": true, \"linkText\": \"Export to plot.ly\"})});</script>"
      ]
     },
     "metadata": {},
     "output_type": "display_data"
    },
    {
     "data": {
      "text/html": [
       "<div>\n",
       "<style scoped>\n",
       "    .dataframe tbody tr th:only-of-type {\n",
       "        vertical-align: middle;\n",
       "    }\n",
       "\n",
       "    .dataframe tbody tr th {\n",
       "        vertical-align: top;\n",
       "    }\n",
       "\n",
       "    .dataframe thead th {\n",
       "        text-align: right;\n",
       "    }\n",
       "</style>\n",
       "<table border=\"1\" class=\"dataframe\">\n",
       "  <thead>\n",
       "    <tr style=\"text-align: right;\">\n",
       "      <th>country</th>\n",
       "      <th>USA</th>\n",
       "      <th>UK</th>\n",
       "      <th>Australia</th>\n",
       "      <th>Japan</th>\n",
       "      <th>Canada</th>\n",
       "      <th>New Zealand</th>\n",
       "      <th>Taiwan</th>\n",
       "      <th>South Africa</th>\n",
       "      <th>Mexico</th>\n",
       "      <th>Finland</th>\n",
       "    </tr>\n",
       "  </thead>\n",
       "  <tbody>\n",
       "    <tr>\n",
       "      <th>net</th>\n",
       "      <td>4.646775e+10</td>\n",
       "      <td>513052081.0</td>\n",
       "      <td>401698853.0</td>\n",
       "      <td>400460745.0</td>\n",
       "      <td>253757608.0</td>\n",
       "      <td>196891729.0</td>\n",
       "      <td>102378209.0</td>\n",
       "      <td>100178815.0</td>\n",
       "      <td>48409716.0</td>\n",
       "      <td>34509366.0</td>\n",
       "    </tr>\n",
       "  </tbody>\n",
       "</table>\n",
       "</div>"
      ],
      "text/plain": [
       "country           USA           UK    Australia        Japan       Canada  \\\n",
       "net      4.646775e+10  513052081.0  401698853.0  400460745.0  253757608.0   \n",
       "\n",
       "country  New Zealand       Taiwan  South Africa      Mexico     Finland  \n",
       "net      196891729.0  102378209.0   100178815.0  48409716.0  34509366.0  "
      ]
     },
     "execution_count": 20,
     "metadata": {},
     "output_type": "execute_result"
    }
   ],
   "source": [
    "#net per year and country\n",
    "npyac = pd.pivot_table(movies,index ='country',\n",
    "                       values=['net'],\n",
    "                       aggfunc=np.sum).sort_values('net',ascending=False).head(10)\n",
    "npyac.iplot(kind='bar',color='green', title='Top 10 movie revenue by countries')\n",
    "npyac.T"
   ]
  },
  {
   "cell_type": "markdown",
   "metadata": {},
   "source": [
    "_As we imagine, USA is the country with the best numbers on the movie industry._"
   ]
  },
  {
   "cell_type": "markdown",
   "metadata": {},
   "source": [
    "__What about the proportion of budget, gross and net per movie?.__ "
   ]
  },
  {
   "cell_type": "code",
   "execution_count": 23,
   "metadata": {
    "scrolled": false
   },
   "outputs": [
    {
     "data": {
      "application/vnd.plotly.v1+json": {
       "data": [
        {
         "marker": {
          "color": "rgba(219, 64, 82, 0.6)",
          "line": {
           "color": "red",
           "width": 1
          }
         },
         "name": "('mean', 'budget')",
         "orientation": "v",
         "text": "",
         "type": "bar",
         "uid": "a6e6a188-b1c9-11e9-8a80-e09467129110",
         "x": [
          "USA",
          "Germany",
          "UK",
          "Australia",
          "Canada",
          "France",
          "Japan",
          "Spain",
          "Ireland",
          "Italy"
         ],
         "y": [
          28725045.16317734,
          27360074.62686567,
          17702313.75358166,
          13759634.146341464,
          12621500,
          11001060.070671378,
          9517647.05882353,
          9487500,
          6722727.2727272725,
          2911764.705882353
         ]
        },
        {
         "marker": {
          "color": "rgba(55, 128, 191, 0.6)",
          "line": {
           "color": "blue",
           "width": 1
          }
         },
         "name": "('count', 'budget')",
         "orientation": "v",
         "text": "",
         "type": "bar",
         "uid": "a6e6c87e-b1c9-11e9-91e0-e09467129110",
         "x": [
          "USA",
          "Germany",
          "UK",
          "Australia",
          "Canada",
          "France",
          "Japan",
          "Spain",
          "Ireland",
          "Italy"
         ],
         "y": [
          4872,
          134,
          698,
          82,
          150,
          283,
          68,
          56,
          44,
          51
         ]
        }
       ],
       "layout": {
        "legend": {
         "bgcolor": "#F5F6F9",
         "font": {
          "color": "#4D5663"
         }
        },
        "paper_bgcolor": "#F5F6F9",
        "plot_bgcolor": "#F5F6F9",
        "title": "Top 10 movie maker countries",
        "titlefont": {
         "color": "#4D5663"
        },
        "xaxis": {
         "gridcolor": "#E1E5ED",
         "showgrid": true,
         "tickfont": {
          "color": "#4D5663"
         },
         "title": "",
         "titlefont": {
          "color": "#4D5663"
         },
         "zerolinecolor": "#E1E5ED"
        },
        "yaxis": {
         "gridcolor": "#E1E5ED",
         "showgrid": true,
         "tickfont": {
          "color": "#4D5663"
         },
         "title": "",
         "titlefont": {
          "color": "#4D5663"
         },
         "zerolinecolor": "#E1E5ED"
        }
       }
      },
      "text/html": [
       "<div id=\"7144e782-3d3b-47d7-b9a8-299b2a7fe6e2\" style=\"height: 525px; width: 100%;\" class=\"plotly-graph-div\"></div><script type=\"text/javascript\">require([\"plotly\"], function(Plotly) { window.PLOTLYENV=window.PLOTLYENV || {};window.PLOTLYENV.BASE_URL=\"https://plot.ly\";Plotly.newPlot(\"7144e782-3d3b-47d7-b9a8-299b2a7fe6e2\", [{\"marker\": {\"color\": \"rgba(219, 64, 82, 0.6)\", \"line\": {\"color\": \"red\", \"width\": 1}}, \"name\": \"('mean', 'budget')\", \"orientation\": \"v\", \"text\": \"\", \"x\": [\"USA\", \"Germany\", \"UK\", \"Australia\", \"Canada\", \"France\", \"Japan\", \"Spain\", \"Ireland\", \"Italy\"], \"y\": [28725045.16317734, 27360074.62686567, 17702313.75358166, 13759634.146341464, 12621500.0, 11001060.070671378, 9517647.05882353, 9487500.0, 6722727.2727272725, 2911764.705882353], \"type\": \"bar\", \"uid\": \"a6ef751c-b1c9-11e9-9a4b-e09467129110\"}, {\"marker\": {\"color\": \"rgba(55, 128, 191, 0.6)\", \"line\": {\"color\": \"blue\", \"width\": 1}}, \"name\": \"('count', 'budget')\", \"orientation\": \"v\", \"text\": \"\", \"x\": [\"USA\", \"Germany\", \"UK\", \"Australia\", \"Canada\", \"France\", \"Japan\", \"Spain\", \"Ireland\", \"Italy\"], \"y\": [4872.0, 134.0, 698.0, 82.0, 150.0, 283.0, 68.0, 56.0, 44.0, 51.0], \"type\": \"bar\", \"uid\": \"a6ef751d-b1c9-11e9-9000-e09467129110\"}], {\"legend\": {\"bgcolor\": \"#F5F6F9\", \"font\": {\"color\": \"#4D5663\"}}, \"paper_bgcolor\": \"#F5F6F9\", \"plot_bgcolor\": \"#F5F6F9\", \"title\": \"Top 10 movie maker countries\", \"titlefont\": {\"color\": \"#4D5663\"}, \"xaxis\": {\"gridcolor\": \"#E1E5ED\", \"showgrid\": true, \"tickfont\": {\"color\": \"#4D5663\"}, \"title\": \"\", \"titlefont\": {\"color\": \"#4D5663\"}, \"zerolinecolor\": \"#E1E5ED\"}, \"yaxis\": {\"gridcolor\": \"#E1E5ED\", \"showgrid\": true, \"tickfont\": {\"color\": \"#4D5663\"}, \"title\": \"\", \"titlefont\": {\"color\": \"#4D5663\"}, \"zerolinecolor\": \"#E1E5ED\"}}, {\"showLink\": true, \"linkText\": \"Export to plot.ly\"})});</script>"
      ],
      "text/vnd.plotly.v1+html": [
       "<div id=\"7144e782-3d3b-47d7-b9a8-299b2a7fe6e2\" style=\"height: 525px; width: 100%;\" class=\"plotly-graph-div\"></div><script type=\"text/javascript\">require([\"plotly\"], function(Plotly) { window.PLOTLYENV=window.PLOTLYENV || {};window.PLOTLYENV.BASE_URL=\"https://plot.ly\";Plotly.newPlot(\"7144e782-3d3b-47d7-b9a8-299b2a7fe6e2\", [{\"marker\": {\"color\": \"rgba(219, 64, 82, 0.6)\", \"line\": {\"color\": \"red\", \"width\": 1}}, \"name\": \"('mean', 'budget')\", \"orientation\": \"v\", \"text\": \"\", \"x\": [\"USA\", \"Germany\", \"UK\", \"Australia\", \"Canada\", \"France\", \"Japan\", \"Spain\", \"Ireland\", \"Italy\"], \"y\": [28725045.16317734, 27360074.62686567, 17702313.75358166, 13759634.146341464, 12621500.0, 11001060.070671378, 9517647.05882353, 9487500.0, 6722727.2727272725, 2911764.705882353], \"type\": \"bar\", \"uid\": \"a6ef751c-b1c9-11e9-9a4b-e09467129110\"}, {\"marker\": {\"color\": \"rgba(55, 128, 191, 0.6)\", \"line\": {\"color\": \"blue\", \"width\": 1}}, \"name\": \"('count', 'budget')\", \"orientation\": \"v\", \"text\": \"\", \"x\": [\"USA\", \"Germany\", \"UK\", \"Australia\", \"Canada\", \"France\", \"Japan\", \"Spain\", \"Ireland\", \"Italy\"], \"y\": [4872.0, 134.0, 698.0, 82.0, 150.0, 283.0, 68.0, 56.0, 44.0, 51.0], \"type\": \"bar\", \"uid\": \"a6ef751d-b1c9-11e9-9000-e09467129110\"}], {\"legend\": {\"bgcolor\": \"#F5F6F9\", \"font\": {\"color\": \"#4D5663\"}}, \"paper_bgcolor\": \"#F5F6F9\", \"plot_bgcolor\": \"#F5F6F9\", \"title\": \"Top 10 movie maker countries\", \"titlefont\": {\"color\": \"#4D5663\"}, \"xaxis\": {\"gridcolor\": \"#E1E5ED\", \"showgrid\": true, \"tickfont\": {\"color\": \"#4D5663\"}, \"title\": \"\", \"titlefont\": {\"color\": \"#4D5663\"}, \"zerolinecolor\": \"#E1E5ED\"}, \"yaxis\": {\"gridcolor\": \"#E1E5ED\", \"showgrid\": true, \"tickfont\": {\"color\": \"#4D5663\"}, \"title\": \"\", \"titlefont\": {\"color\": \"#4D5663\"}, \"zerolinecolor\": \"#E1E5ED\"}}, {\"showLink\": true, \"linkText\": \"Export to plot.ly\"})});</script>"
      ]
     },
     "metadata": {},
     "output_type": "display_data"
    }
   ],
   "source": [
    "#mean budget per year, country and movie\n",
    "bpycam = pd.pivot_table(movies,index ='country',\n",
    "                       values=['budget'],\n",
    "                       aggfunc=[np.mean,'count']\n",
    "                       ).sort_values(('count','budget'),\n",
    "                                     ascending=False).head(10\n",
    "                                                          ).sort_values(('mean','budget')\n",
    "                                                                        ,ascending=False)\n",
    "\n",
    "bpycam.iplot(kind='bar',\n",
    "                 color={('mean','budget'):'red',('count','budget'):'blue'},\n",
    "             title='Top 10 movie maker countries')"
   ]
  },
  {
   "cell_type": "markdown",
   "metadata": {},
   "source": [
    "_Here I decided to take only in count the top 10 countries with more movie productions, then I ordered them by the mean per movie. In resume we can notice that the USA has spent more money per movie, but Germany is very close too._"
   ]
  },
  {
   "cell_type": "code",
   "execution_count": 25,
   "metadata": {},
   "outputs": [
    {
     "data": {
      "application/vnd.plotly.v1+json": {
       "data": [
        {
         "marker": {
          "color": "rgba(255, 153, 51, 0.6)",
          "line": {
           "color": "orange",
           "width": 1
          }
         },
         "name": "('mean', 'gross')",
         "orientation": "v",
         "text": "",
         "type": "bar",
         "uid": "b0e72f9e-b1c9-11e9-9a28-e09467129110",
         "x": [
          "USA",
          "Germany",
          "UK",
          "Australia",
          "Japan",
          "Canada",
          "France",
          "Spain",
          "Ireland",
          "Italy"
         ],
         "y": [
          40627028.0022578,
          23876586.141791046,
          20357902.861031517,
          19801349.841463413,
          17139554.470588237,
          15307434.153333334,
          10731685.084805654,
          8487407.964285715,
          7398459.5,
          3590660.6078431373
         ]
        },
        {
         "marker": {
          "color": "rgba(55, 128, 191, 0.6)",
          "line": {
           "color": "blue",
           "width": 1
          }
         },
         "name": "('count', 'gross')",
         "orientation": "v",
         "text": "",
         "type": "bar",
         "uid": "b0e72f9f-b1c9-11e9-9fe5-e09467129110",
         "x": [
          "USA",
          "Germany",
          "UK",
          "Australia",
          "Japan",
          "Canada",
          "France",
          "Spain",
          "Ireland",
          "Italy"
         ],
         "y": [
          4872,
          134,
          698,
          82,
          68,
          150,
          283,
          56,
          44,
          51
         ]
        }
       ],
       "layout": {
        "legend": {
         "bgcolor": "#F5F6F9",
         "font": {
          "color": "#4D5663"
         }
        },
        "paper_bgcolor": "#F5F6F9",
        "plot_bgcolor": "#F5F6F9",
        "title": "Top 10 movie maker countries",
        "titlefont": {
         "color": "#4D5663"
        },
        "xaxis": {
         "gridcolor": "#E1E5ED",
         "showgrid": true,
         "tickfont": {
          "color": "#4D5663"
         },
         "title": "",
         "titlefont": {
          "color": "#4D5663"
         },
         "zerolinecolor": "#E1E5ED"
        },
        "yaxis": {
         "gridcolor": "#E1E5ED",
         "showgrid": true,
         "tickfont": {
          "color": "#4D5663"
         },
         "title": "",
         "titlefont": {
          "color": "#4D5663"
         },
         "zerolinecolor": "#E1E5ED"
        }
       }
      },
      "text/html": [
       "<div id=\"838c2333-3ff2-40e9-86b3-2a9f41827eac\" style=\"height: 525px; width: 100%;\" class=\"plotly-graph-div\"></div><script type=\"text/javascript\">require([\"plotly\"], function(Plotly) { window.PLOTLYENV=window.PLOTLYENV || {};window.PLOTLYENV.BASE_URL=\"https://plot.ly\";Plotly.newPlot(\"838c2333-3ff2-40e9-86b3-2a9f41827eac\", [{\"marker\": {\"color\": \"rgba(255, 153, 51, 0.6)\", \"line\": {\"color\": \"orange\", \"width\": 1}}, \"name\": \"('mean', 'gross')\", \"orientation\": \"v\", \"text\": \"\", \"x\": [\"USA\", \"Germany\", \"UK\", \"Australia\", \"Japan\", \"Canada\", \"France\", \"Spain\", \"Ireland\", \"Italy\"], \"y\": [40627028.0022578, 23876586.141791046, 20357902.861031517, 19801349.841463413, 17139554.470588237, 15307434.153333334, 10731685.084805654, 8487407.964285715, 7398459.5, 3590660.6078431373], \"type\": \"bar\", \"uid\": \"b0efb436-b1c9-11e9-9cff-e09467129110\"}, {\"marker\": {\"color\": \"rgba(55, 128, 191, 0.6)\", \"line\": {\"color\": \"blue\", \"width\": 1}}, \"name\": \"('count', 'gross')\", \"orientation\": \"v\", \"text\": \"\", \"x\": [\"USA\", \"Germany\", \"UK\", \"Australia\", \"Japan\", \"Canada\", \"France\", \"Spain\", \"Ireland\", \"Italy\"], \"y\": [4872.0, 134.0, 698.0, 82.0, 68.0, 150.0, 283.0, 56.0, 44.0, 51.0], \"type\": \"bar\", \"uid\": \"b0efb437-b1c9-11e9-b286-e09467129110\"}], {\"legend\": {\"bgcolor\": \"#F5F6F9\", \"font\": {\"color\": \"#4D5663\"}}, \"paper_bgcolor\": \"#F5F6F9\", \"plot_bgcolor\": \"#F5F6F9\", \"title\": \"Top 10 movie maker countries\", \"titlefont\": {\"color\": \"#4D5663\"}, \"xaxis\": {\"gridcolor\": \"#E1E5ED\", \"showgrid\": true, \"tickfont\": {\"color\": \"#4D5663\"}, \"title\": \"\", \"titlefont\": {\"color\": \"#4D5663\"}, \"zerolinecolor\": \"#E1E5ED\"}, \"yaxis\": {\"gridcolor\": \"#E1E5ED\", \"showgrid\": true, \"tickfont\": {\"color\": \"#4D5663\"}, \"title\": \"\", \"titlefont\": {\"color\": \"#4D5663\"}, \"zerolinecolor\": \"#E1E5ED\"}}, {\"showLink\": true, \"linkText\": \"Export to plot.ly\"})});</script>"
      ],
      "text/vnd.plotly.v1+html": [
       "<div id=\"838c2333-3ff2-40e9-86b3-2a9f41827eac\" style=\"height: 525px; width: 100%;\" class=\"plotly-graph-div\"></div><script type=\"text/javascript\">require([\"plotly\"], function(Plotly) { window.PLOTLYENV=window.PLOTLYENV || {};window.PLOTLYENV.BASE_URL=\"https://plot.ly\";Plotly.newPlot(\"838c2333-3ff2-40e9-86b3-2a9f41827eac\", [{\"marker\": {\"color\": \"rgba(255, 153, 51, 0.6)\", \"line\": {\"color\": \"orange\", \"width\": 1}}, \"name\": \"('mean', 'gross')\", \"orientation\": \"v\", \"text\": \"\", \"x\": [\"USA\", \"Germany\", \"UK\", \"Australia\", \"Japan\", \"Canada\", \"France\", \"Spain\", \"Ireland\", \"Italy\"], \"y\": [40627028.0022578, 23876586.141791046, 20357902.861031517, 19801349.841463413, 17139554.470588237, 15307434.153333334, 10731685.084805654, 8487407.964285715, 7398459.5, 3590660.6078431373], \"type\": \"bar\", \"uid\": \"b0efb436-b1c9-11e9-9cff-e09467129110\"}, {\"marker\": {\"color\": \"rgba(55, 128, 191, 0.6)\", \"line\": {\"color\": \"blue\", \"width\": 1}}, \"name\": \"('count', 'gross')\", \"orientation\": \"v\", \"text\": \"\", \"x\": [\"USA\", \"Germany\", \"UK\", \"Australia\", \"Japan\", \"Canada\", \"France\", \"Spain\", \"Ireland\", \"Italy\"], \"y\": [4872.0, 134.0, 698.0, 82.0, 68.0, 150.0, 283.0, 56.0, 44.0, 51.0], \"type\": \"bar\", \"uid\": \"b0efb437-b1c9-11e9-b286-e09467129110\"}], {\"legend\": {\"bgcolor\": \"#F5F6F9\", \"font\": {\"color\": \"#4D5663\"}}, \"paper_bgcolor\": \"#F5F6F9\", \"plot_bgcolor\": \"#F5F6F9\", \"title\": \"Top 10 movie maker countries\", \"titlefont\": {\"color\": \"#4D5663\"}, \"xaxis\": {\"gridcolor\": \"#E1E5ED\", \"showgrid\": true, \"tickfont\": {\"color\": \"#4D5663\"}, \"title\": \"\", \"titlefont\": {\"color\": \"#4D5663\"}, \"zerolinecolor\": \"#E1E5ED\"}, \"yaxis\": {\"gridcolor\": \"#E1E5ED\", \"showgrid\": true, \"tickfont\": {\"color\": \"#4D5663\"}, \"title\": \"\", \"titlefont\": {\"color\": \"#4D5663\"}, \"zerolinecolor\": \"#E1E5ED\"}}, {\"showLink\": true, \"linkText\": \"Export to plot.ly\"})});</script>"
      ]
     },
     "metadata": {},
     "output_type": "display_data"
    }
   ],
   "source": [
    "#mean gross per year, country and movie\n",
    "bpycam = pd.pivot_table(movies,index ='country',\n",
    "                       values=['gross'],\n",
    "                       aggfunc=[np.mean,'count']\n",
    "                       ).sort_values(('count','gross'),\n",
    "                                     ascending=False).head(10\n",
    "                                                          ).sort_values(('mean','gross')\n",
    "                                                                        ,ascending=False)\n",
    "\n",
    "bpycam.iplot(kind='bar',\n",
    "             color={('mean','gross'):'orange',('count','gross'):'blue'},\n",
    "             title='Top 10 movie maker countries')"
   ]
  },
  {
   "cell_type": "markdown",
   "metadata": {},
   "source": []
  },
  {
   "cell_type": "code",
   "execution_count": 27,
   "metadata": {},
   "outputs": [
    {
     "data": {
      "application/vnd.plotly.v1+json": {
       "data": [
        {
         "marker": {
          "color": "rgba(0, 128, 0, 0.6)",
          "line": {
           "color": "green",
           "width": 1
          }
         },
         "name": "('mean', 'net')",
         "orientation": "v",
         "text": "",
         "type": "bar",
         "uid": "c6f81594-b1c9-11e9-b77c-e09467129110",
         "x": [
          "USA",
          "Japan",
          "Australia",
          "Canada",
          "UK",
          "Italy",
          "Ireland",
          "France",
          "Spain",
          "Germany"
         ],
         "y": [
          9537715.372947454,
          5889128.602941177,
          4898766.5,
          1691717.3866666667,
          735031.6346704871,
          -582153.3725490196,
          -2122025.9318181816,
          -2429361.6537102475,
          -2971580.714285714,
          -4700359.4701492535
         ]
        },
        {
         "marker": {
          "color": "rgba(55, 128, 191, 0.6)",
          "line": {
           "color": "blue",
           "width": 1
          }
         },
         "name": "('count', 'net')",
         "orientation": "v",
         "text": "",
         "type": "bar",
         "uid": "c6f81595-b1c9-11e9-90ed-e09467129110",
         "x": [
          "USA",
          "Japan",
          "Australia",
          "Canada",
          "UK",
          "Italy",
          "Ireland",
          "France",
          "Spain",
          "Germany"
         ],
         "y": [
          4872,
          68,
          82,
          150,
          698,
          51,
          44,
          283,
          56,
          134
         ]
        }
       ],
       "layout": {
        "legend": {
         "bgcolor": "#F5F6F9",
         "font": {
          "color": "#4D5663"
         }
        },
        "paper_bgcolor": "#F5F6F9",
        "plot_bgcolor": "#F5F6F9",
        "title": "Top 10 movie maker countries",
        "titlefont": {
         "color": "#4D5663"
        },
        "xaxis": {
         "gridcolor": "#E1E5ED",
         "showgrid": true,
         "tickfont": {
          "color": "#4D5663"
         },
         "title": "",
         "titlefont": {
          "color": "#4D5663"
         },
         "zerolinecolor": "#E1E5ED"
        },
        "yaxis": {
         "gridcolor": "#E1E5ED",
         "showgrid": true,
         "tickfont": {
          "color": "#4D5663"
         },
         "title": "",
         "titlefont": {
          "color": "#4D5663"
         },
         "zerolinecolor": "#E1E5ED"
        }
       }
      },
      "text/html": [
       "<div id=\"94d7be49-41c0-4144-8b58-aba9520d4bfd\" style=\"height: 525px; width: 100%;\" class=\"plotly-graph-div\"></div><script type=\"text/javascript\">require([\"plotly\"], function(Plotly) { window.PLOTLYENV=window.PLOTLYENV || {};window.PLOTLYENV.BASE_URL=\"https://plot.ly\";Plotly.newPlot(\"94d7be49-41c0-4144-8b58-aba9520d4bfd\", [{\"marker\": {\"color\": \"rgba(0, 128, 0, 0.6)\", \"line\": {\"color\": \"green\", \"width\": 1}}, \"name\": \"('mean', 'net')\", \"orientation\": \"v\", \"text\": \"\", \"x\": [\"USA\", \"Japan\", \"Australia\", \"Canada\", \"UK\", \"Italy\", \"Ireland\", \"France\", \"Spain\", \"Germany\"], \"y\": [9537715.372947454, 5889128.602941177, 4898766.5, 1691717.3866666667, 735031.6346704871, -582153.3725490196, -2122025.9318181816, -2429361.6537102475, -2971580.714285714, -4700359.4701492535], \"type\": \"bar\", \"uid\": \"c7010f1c-b1c9-11e9-8fed-e09467129110\"}, {\"marker\": {\"color\": \"rgba(55, 128, 191, 0.6)\", \"line\": {\"color\": \"blue\", \"width\": 1}}, \"name\": \"('count', 'net')\", \"orientation\": \"v\", \"text\": \"\", \"x\": [\"USA\", \"Japan\", \"Australia\", \"Canada\", \"UK\", \"Italy\", \"Ireland\", \"France\", \"Spain\", \"Germany\"], \"y\": [4872.0, 68.0, 82.0, 150.0, 698.0, 51.0, 44.0, 283.0, 56.0, 134.0], \"type\": \"bar\", \"uid\": \"c7010f1d-b1c9-11e9-a8e8-e09467129110\"}], {\"legend\": {\"bgcolor\": \"#F5F6F9\", \"font\": {\"color\": \"#4D5663\"}}, \"paper_bgcolor\": \"#F5F6F9\", \"plot_bgcolor\": \"#F5F6F9\", \"title\": \"Top 10 movie maker countries\", \"titlefont\": {\"color\": \"#4D5663\"}, \"xaxis\": {\"gridcolor\": \"#E1E5ED\", \"showgrid\": true, \"tickfont\": {\"color\": \"#4D5663\"}, \"title\": \"\", \"titlefont\": {\"color\": \"#4D5663\"}, \"zerolinecolor\": \"#E1E5ED\"}, \"yaxis\": {\"gridcolor\": \"#E1E5ED\", \"showgrid\": true, \"tickfont\": {\"color\": \"#4D5663\"}, \"title\": \"\", \"titlefont\": {\"color\": \"#4D5663\"}, \"zerolinecolor\": \"#E1E5ED\"}}, {\"showLink\": true, \"linkText\": \"Export to plot.ly\"})});</script>"
      ],
      "text/vnd.plotly.v1+html": [
       "<div id=\"94d7be49-41c0-4144-8b58-aba9520d4bfd\" style=\"height: 525px; width: 100%;\" class=\"plotly-graph-div\"></div><script type=\"text/javascript\">require([\"plotly\"], function(Plotly) { window.PLOTLYENV=window.PLOTLYENV || {};window.PLOTLYENV.BASE_URL=\"https://plot.ly\";Plotly.newPlot(\"94d7be49-41c0-4144-8b58-aba9520d4bfd\", [{\"marker\": {\"color\": \"rgba(0, 128, 0, 0.6)\", \"line\": {\"color\": \"green\", \"width\": 1}}, \"name\": \"('mean', 'net')\", \"orientation\": \"v\", \"text\": \"\", \"x\": [\"USA\", \"Japan\", \"Australia\", \"Canada\", \"UK\", \"Italy\", \"Ireland\", \"France\", \"Spain\", \"Germany\"], \"y\": [9537715.372947454, 5889128.602941177, 4898766.5, 1691717.3866666667, 735031.6346704871, -582153.3725490196, -2122025.9318181816, -2429361.6537102475, -2971580.714285714, -4700359.4701492535], \"type\": \"bar\", \"uid\": \"c7010f1c-b1c9-11e9-8fed-e09467129110\"}, {\"marker\": {\"color\": \"rgba(55, 128, 191, 0.6)\", \"line\": {\"color\": \"blue\", \"width\": 1}}, \"name\": \"('count', 'net')\", \"orientation\": \"v\", \"text\": \"\", \"x\": [\"USA\", \"Japan\", \"Australia\", \"Canada\", \"UK\", \"Italy\", \"Ireland\", \"France\", \"Spain\", \"Germany\"], \"y\": [4872.0, 68.0, 82.0, 150.0, 698.0, 51.0, 44.0, 283.0, 56.0, 134.0], \"type\": \"bar\", \"uid\": \"c7010f1d-b1c9-11e9-a8e8-e09467129110\"}], {\"legend\": {\"bgcolor\": \"#F5F6F9\", \"font\": {\"color\": \"#4D5663\"}}, \"paper_bgcolor\": \"#F5F6F9\", \"plot_bgcolor\": \"#F5F6F9\", \"title\": \"Top 10 movie maker countries\", \"titlefont\": {\"color\": \"#4D5663\"}, \"xaxis\": {\"gridcolor\": \"#E1E5ED\", \"showgrid\": true, \"tickfont\": {\"color\": \"#4D5663\"}, \"title\": \"\", \"titlefont\": {\"color\": \"#4D5663\"}, \"zerolinecolor\": \"#E1E5ED\"}, \"yaxis\": {\"gridcolor\": \"#E1E5ED\", \"showgrid\": true, \"tickfont\": {\"color\": \"#4D5663\"}, \"title\": \"\", \"titlefont\": {\"color\": \"#4D5663\"}, \"zerolinecolor\": \"#E1E5ED\"}}, {\"showLink\": true, \"linkText\": \"Export to plot.ly\"})});</script>"
      ]
     },
     "metadata": {},
     "output_type": "display_data"
    }
   ],
   "source": [
    "#net per year, country and movie\n",
    "bpycam = pd.pivot_table(movies,index ='country',\n",
    "                       values=['net'],\n",
    "                       aggfunc=[np.mean,'count']\n",
    "                       ).sort_values(('count','net'),\n",
    "                                     ascending=False).head(10\n",
    "                                                          ).sort_values(('mean','net')\n",
    "                                                                        ,ascending=False)\n",
    "\n",
    "bpycam.iplot(kind='bar',\n",
    "             color={('mean','net'):'green',('count','net'):'blue'},\n",
    "             title='Top 10 movie maker countries')"
   ]
  },
  {
   "cell_type": "markdown",
   "metadata": {},
   "source": []
  },
  {
   "cell_type": "markdown",
   "metadata": {},
   "source": [
    "__Now I want to know which are the top 10 movie maker companies.__"
   ]
  },
  {
   "cell_type": "code",
   "execution_count": 28,
   "metadata": {
    "scrolled": false
   },
   "outputs": [
    {
     "name": "stderr",
     "output_type": "stream",
     "text": [
      "C:\\ProgramData\\Anaconda3\\lib\\site-packages\\pandas\\core\\groupby\\generic.py:1315: FutureWarning:\n",
      "\n",
      "using a dict with renaming is deprecated and will be removed in a future version\n",
      "\n"
     ]
    },
    {
     "data": {
      "image/png": "[encoded data removed]",
      "text/plain": [
       "<Figure size 720x720 with 1 Axes>"
      ]
     },
     "metadata": {},
     "output_type": "display_data"
    }
   ],
   "source": [
    "mmc = movies.groupby('company').agg(\n",
    "    {'budget':{'#movies':'count'}}).sort_values(\n",
    "    ('budget','#movies')\n",
    "    ,ascending=False\n",
    ").head(10)\n",
    "explode = (0.1, 0.1, 0.1, 0,0,0,0,0,0,0)\n",
    "mmc.plot.pie(('budget','#movies'), \n",
    "             labels=mmc.index, \n",
    "             shadow=True, \n",
    "             startangle=90,\n",
    "             figsize=(10,10),\n",
    "             fontsize=10,autopct='%1.2f%%',\n",
    "             explode=explode,\n",
    "             center=(10,0),\n",
    "             legend=False\n",
    "            )\n",
    "plt.title('The top 10 movie maker companies',fontsize=20)\n",
    "plt.show()"
   ]
  },
  {
   "cell_type": "raw",
   "metadata": {},
   "source": []
  },
  {
   "cell_type": "code",
   "execution_count": null,
   "metadata": {},
   "outputs": [],
   "source": []
  }
 ],
 "metadata": {
  "kernelspec": {
   "display_name": "Python 3",
   "language": "python",
   "name": "python3"
  },
  "language_info": {
   "codemirror_mode": {
    "name": "ipython",
    "version": 3
   },
   "file_extension": ".py",
   "mimetype": "text/x-python",
   "name": "python",
   "nbconvert_exporter": "python",
   "pygments_lexer": "ipython3",
   "version": "3.7.3"
  }
 },
 "nbformat": 4,
 "nbformat_minor": 2
}
